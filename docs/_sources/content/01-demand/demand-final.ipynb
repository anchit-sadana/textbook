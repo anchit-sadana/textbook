{
 "cells": [
  {
   "cell_type": "markdown",
   "metadata": {
    "cell_id": "82a139ac-5e0b-4784-9503-53e1c69e7304"
   },
   "source": [
    "<table style=\"width: 100%;\" id=\"nb-header\">\n",
    "    <tr style=\"background-color: transparent;\"><td>\n",
    "        <img src=\"https://d8a-88.github.io/econ-fa19/assets/images/blue_text.png\" width=\"250px\" style=\"margin-left: 0;\" />\n",
    "    </td><td>\n",
    "        <p style=\"text-align: right; font-size: 10pt;\"><strong>Economic Models</strong>, Fall 2020<br>\n",
    "            Dr. Eric Van Dusen <br>\n",
    "        Amal Bhatnagar <br>\n",
    "</table>"
   ]
  },
  {
   "cell_type": "markdown",
   "metadata": {},
   "source": [
    "# Demand Curves"
   ]
  },
  {
   "cell_type": "code",
   "execution_count": 1,
   "metadata": {
    "cell_id": "211eaf07-febe-480e-9d9d-f7152cca2a4f",
    "tags": [
     "remove_cell"
    ]
   },
   "outputs": [],
   "source": [
    "# HIDDEN\n",
    "from datascience import *\n",
    "\n",
    "import sympy\n",
    "import matplotlib.pyplot as plt\n",
    "import matplotlib as mpl\n",
    "import matplotlib.patches as patches\n",
    "plt.style.use('seaborn-muted')\n",
    "%matplotlib inline\n",
    "\n",
    "from IPython.display import display\n",
    "import numpy as np\n",
    "import pandas as pd\n",
    "solve = lambda x,y: sympy.solve(x-y)[0] if len(sympy.solve(x-y))==1 else \"Not Single Solution\"\n",
    "\n",
    "import warnings\n",
    "warnings.filterwarnings('ignore')"
   ]
  },
  {
   "cell_type": "markdown",
   "metadata": {
    "cell_id": "389d1eb5-63ae-48c7-90de-9f03dce82965"
   },
   "source": [
    "In this chapter, we will explore one of the most foundational yet important concepts in economics: demand curves. "
   ]
  },
  {
   "cell_type": "markdown",
   "metadata": {
    "cell_id": "c76dfdca-d174-492a-be15-229bd5decb11"
   },
   "source": [
    "### Background\n",
    "The demand curve shows the graphical relationship between the price of a good or service and the quantity demanded for it over a given period of time. \n",
    "In other words, it shows the quantity of goods or services consumers are willing to buy at each market price. \n",
    "The quantity of goods or services demanded or supplied can be modeled as a function of price, as in:  $$\\text{Quantity} = f(\\text{Price})$$\n",
    "\n",
    "Notably, the curve is downwards sloping because of the law of demand, which states that *as the price of a good or service increases, the quantity demanded for it decreases, assuming all other factors are held constant*. \n",
    "\n",
    "This should make intuitive sense: as prices increase, fewer people are willing to pay the higher price for the same good. On the other hand, as prices decrease, more people are willing to pay the lower price for the same good. Hence, the quantity demanded of a good or service has an inverse relationship with the price. \n",
    "\n",
    "In this course, we will assume that the relationship is somewhat linear and can be described as $$\\text{Quantity}_{d}=a \\cdot \\text{Price}_{d} + b$$\n",
    "\n",
    "We can interpret the equation above as follows: *as the price of a unit increases by 1, there is an $a$ unit increase (or decrease, if $a$ is negative) in the quantity demanded.* \n",
    "\n",
    "For example, $\\text{Quantity}_{d}=-2 \\cdot \\text{Price}_{d} + 3$ would suggest that a price increase by 1 would decrease overall quantity demanded in the market by 2.  \n",
    "\n",
    "Oppositely, price can also be measured as function of quantity to denote demand. In this case, we use an inverse demand function, as it is the inverse function of the demand function above. \n",
    "\n",
    "Since price is a function of quantity, $$\\text{Price} = f(\\text{Quantity})$$\n",
    "As we are solving for the inverse of the previous demand function, the inverse demand function for the example above is $$\\text{Price}_{d}=-\\frac{1}{2} \\cdot \\text{Quantity}_{d} - \\dfrac{3}{2}$$."
   ]
  },
  {
   "cell_type": "markdown",
   "metadata": {
    "cell_id": "9d085203-725e-45dc-a43b-51a413898d18"
   },
   "source": [
    "## Movements with the Demand Curve "
   ]
  },
  {
   "cell_type": "markdown",
   "metadata": {
    "cell_id": "1f27b4ab-c651-42f6-a096-42887f3b7717"
   },
   "source": [
    "### Shifts in the Demand Curve\n",
    "The demand curve can shift in or out based on exogenous events that occur outside of the market. \n",
    "Some factors other than a change in price of the good/service could be changes in:\n",
    "\n",
    "*  buyer's income\n",
    "*  consumer preferences\n",
    "*  expectation of future price/supply/demand\n",
    "*  changes in the price of related goods\n",
    "\n",
    "If any of these changes occur and causes the demand for the selected good/service to decrease, then the curve shifts to the left as less of the good or service will be demanded at every price.\n",
    "\n",
    "Similarly, if any of these changes causes the demand for the selected good/service to increase, the curve would shift to the right. This signifies that more of the good or service will be demanded at every price.\n",
    "\n",
    "For example, consumers' incomes decreased during the 2008 recession, thus decreasing overall buying power and shifting the demand curve leftwards; a left shift in the demand curve suggests that consumers would purchase fewer quantities of goods at every price."
   ]
  },
  {
   "cell_type": "markdown",
   "metadata": {},
   "source": [
    "### Movements along the Demand Curve"
   ]
  },
  {
   "cell_type": "markdown",
   "metadata": {},
   "source": [
    "Above, we looked at when exogenous events affect the demand curve. Another concept is movements along the demand curve, which would be considered endogenous events. In movements along the demand curve, changes in price affect the quantity demanded of the good or service. This assumes ceteris paribus, which means holding all other factors constant. This phenomenom is called the Movement of the Demand Curve. With a change in price, the quantity demanded for the good or service can shift the quantity demanded either upward or downward on the demand curve. "
   ]
  },
  {
   "cell_type": "markdown",
   "metadata": {},
   "source": [
    "## Income and Substitution Effect"
   ]
  },
  {
   "cell_type": "markdown",
   "metadata": {},
   "source": [
    "Changes in the price of a good also leads to 2 possible effects:\n",
    "\n",
    "- **Income Effect**: Examines how the change in price of the good affects income, which then affects the quantity demanded of a good or service.\n",
    "- **Substitution Effect**: Examines how the change in price of the good affects its demand relative to other goods and services\n",
    "\n",
    "If the price of a good increases, it would require the consumer to spend more of their income on the good. This dissuades consumers from purchasing the good, decreases the quantity demanded. If the price of a good decreases, consumers would spend less money to receive the same good. This increases the quantity demanded for the good, because more consumers would want to purchase the good, given the decrease in the amount of purchasing power required to obtain the good.\n",
    "\n",
    "If the price of a good increases, then consumers might look at similar goods that function in the same way or yield an equivalent amount of utility as the original good. Consumers are effectively shifting or substituting away from the relatively more expensive good to a cheaper alternative, thereby decreasing the quantity demanded for the good. The converse is also true: if the price of a good decreases, then consumers that currently purchase other similar goods might start consuming this good instead, because it would cost less money for them to obtain.\n",
    "\n",
    "For example, if the price of gas increases, the higher price for gas might encourage consumers to look at purchasing more efficient cars, such as electric or hybrid cars. This is the subsitution effect. If the consumer stays with their original car, then they would have less disposable income after purchasing the now-more-expensive gas, so they might purchase less gas. This is the income effect.  "
   ]
  },
  {
   "cell_type": "markdown",
   "metadata": {
    "cell_id": "4f243c01-873e-4eb5-bdfe-451f2a06dfea"
   },
   "source": [
    "## An Empirical Example: Fruits"
   ]
  },
  {
   "cell_type": "markdown",
   "metadata": {
    "cell_id": "95171120-26d1-46c6-abc8-3e3ac27d800b"
   },
   "source": [
    "We will now explore the relationship between price and quantity of oranges produced between 1924 and 1938. \n",
    "Since the data is from the 1920's and 1930's, it is important to remember that the prices are much lower than what they would be today because of inflation, competition, innovations, and other factors. \n",
    "For example, in 1924, a ton of oranges would have costed 6.63 dollars; that same amount in 2019 is 100.78 dollars. \n",
    "\n",
    "\n",
    "The source of this dataset is S. Hoos (1941). \"An Investigation on Complementarity Relations Between\n",
    "Fresh Fruits,\" Journal of Farm Economics, Vol. 23, #2, pp. 421-433."
   ]
  },
  {
   "cell_type": "code",
   "execution_count": 2,
   "metadata": {
    "cell_id": "5a6c6746-bad6-466e-8c18-bc16f5fad344"
   },
   "outputs": [
    {
     "data": {
      "text/html": [
       "<table border=\"1\" class=\"dataframe\">\n",
       "    <thead>\n",
       "        <tr>\n",
       "            <th>Year</th> <th>Pear Price</th> <th>Pear Unloads (Tons)</th> <th>Plum Price</th> <th>Plum Unloads</th> <th>Peach Price</th> <th>Peach Unloads</th> <th>Orange Price</th> <th>Orange Unloads</th> <th>NY Factory Wages</th>\n",
       "        </tr>\n",
       "    </thead>\n",
       "    <tbody>\n",
       "        <tr>\n",
       "            <td>1924</td> <td>8.04      </td> <td>18489              </td> <td>8.86      </td> <td>6582        </td> <td>4.96       </td> <td>41880        </td> <td>6.63        </td> <td>21258         </td> <td>27.22           </td>\n",
       "        </tr>\n",
       "        <tr>\n",
       "            <td>1925</td> <td>5.67      </td> <td>21919              </td> <td>7.27      </td> <td>5526        </td> <td>4.87       </td> <td>38772        </td> <td>9.19        </td> <td>15426         </td> <td>28.03           </td>\n",
       "        </tr>\n",
       "        <tr>\n",
       "            <td>1926</td> <td>5.44      </td> <td>29328              </td> <td>6.68      </td> <td>5742        </td> <td>3.35       </td> <td>46516        </td> <td>7.2         </td> <td>24762         </td> <td>28.89           </td>\n",
       "        </tr>\n",
       "        <tr>\n",
       "            <td>1927</td> <td>7.15      </td> <td>17082              </td> <td>8.09      </td> <td>5758        </td> <td>5.7        </td> <td>32500        </td> <td>8.63        </td> <td>22766         </td> <td>29.14           </td>\n",
       "        </tr>\n",
       "        <tr>\n",
       "            <td>1928</td> <td>5.81      </td> <td>20708              </td> <td>7.41      </td> <td>6000        </td> <td>4.13       </td> <td>46820        </td> <td>10.71       </td> <td>18766         </td> <td>29.34           </td>\n",
       "        </tr>\n",
       "        <tr>\n",
       "            <td>1929</td> <td>7.6       </td> <td>13071              </td> <td>10.86     </td> <td>3504        </td> <td>6.7        </td> <td>36990        </td> <td>6.36        </td> <td>35702         </td> <td>29.97           </td>\n",
       "        </tr>\n",
       "        <tr>\n",
       "            <td>1930</td> <td>5.06      </td> <td>22068              </td> <td>6.23      </td> <td>7998        </td> <td>6.35       </td> <td>29680        </td> <td>10.5        </td> <td>23718         </td> <td>28.68           </td>\n",
       "        </tr>\n",
       "        <tr>\n",
       "            <td>1931</td> <td>5.4       </td> <td>19255              </td> <td>6.86      </td> <td>5638        </td> <td>3.91       </td> <td>50940        </td> <td>5.81        </td> <td>39263         </td> <td>26.35           </td>\n",
       "        </tr>\n",
       "        <tr>\n",
       "            <td>1932</td> <td>4.06      </td> <td>17293              </td> <td>6.09      </td> <td>7364        </td> <td>4.57       </td> <td>27642        </td> <td>4.71        </td> <td>38553         </td> <td>21.98           </td>\n",
       "        </tr>\n",
       "        <tr>\n",
       "            <td>1933</td> <td>4.78      </td> <td>11063              </td> <td>5.86      </td> <td>8136        </td> <td>3.57       </td> <td>35560        </td> <td>4.6         </td> <td>36540         </td> <td>22.26           </td>\n",
       "        </tr>\n",
       "    </tbody>\n",
       "</table>\n",
       "<p>... (5 rows omitted)</p>"
      ],
      "text/plain": [
       "Year | Pear Price | Pear Unloads (Tons) | Plum Price | Plum Unloads | Peach Price | Peach Unloads | Orange Price | Orange Unloads | NY Factory Wages\n",
       "1924 | 8.04       | 18489               | 8.86       | 6582         | 4.96        | 41880         | 6.63         | 21258          | 27.22\n",
       "1925 | 5.67       | 21919               | 7.27       | 5526         | 4.87        | 38772         | 9.19         | 15426          | 28.03\n",
       "1926 | 5.44       | 29328               | 6.68       | 5742         | 3.35        | 46516         | 7.2          | 24762          | 28.89\n",
       "1927 | 7.15       | 17082               | 8.09       | 5758         | 5.7         | 32500         | 8.63         | 22766          | 29.14\n",
       "1928 | 5.81       | 20708               | 7.41       | 6000         | 4.13        | 46820         | 10.71        | 18766          | 29.34\n",
       "1929 | 7.6        | 13071               | 10.86      | 3504         | 6.7         | 36990         | 6.36         | 35702          | 29.97\n",
       "1930 | 5.06       | 22068               | 6.23       | 7998         | 6.35        | 29680         | 10.5         | 23718          | 28.68\n",
       "1931 | 5.4        | 19255               | 6.86       | 5638         | 3.91        | 50940         | 5.81         | 39263          | 26.35\n",
       "1932 | 4.06       | 17293               | 6.09       | 7364         | 4.57        | 27642         | 4.71         | 38553          | 21.98\n",
       "1933 | 4.78       | 11063               | 5.86       | 8136         | 3.57        | 35560         | 4.6          | 36540          | 22.26\n",
       "... (5 rows omitted)"
      ]
     },
     "execution_count": 2,
     "metadata": {},
     "output_type": "execute_result"
    }
   ],
   "source": [
    "fruitprice = Table.read_table('fruitprice.csv')\n",
    "fruitprice"
   ]
  },
  {
   "cell_type": "markdown",
   "metadata": {
    "cell_id": "61b55ebf-36a4-4ce1-89b7-4b860da25de4"
   },
   "source": [
    "## Step 1: Preprocess data\n",
    "\n",
    "Because we are only examining the relationship between prices and quantity for oranges, we can create a new table with the relevant columns: `Year`, `Orange Price`, and `Orange Unloads`. "
   ]
  },
  {
   "cell_type": "code",
   "execution_count": 3,
   "metadata": {
    "cell_id": "b75d49b7-7c34-4c8a-a844-e16f26940df7"
   },
   "outputs": [
    {
     "data": {
      "text/html": [
       "<table border=\"1\" class=\"dataframe\">\n",
       "    <thead>\n",
       "        <tr>\n",
       "            <th>Year</th> <th>Orange Price</th> <th>Orange Unloads</th>\n",
       "        </tr>\n",
       "    </thead>\n",
       "    <tbody>\n",
       "        <tr>\n",
       "            <td>1924</td> <td>6.63        </td> <td>21258         </td>\n",
       "        </tr>\n",
       "        <tr>\n",
       "            <td>1925</td> <td>9.19        </td> <td>15426         </td>\n",
       "        </tr>\n",
       "        <tr>\n",
       "            <td>1926</td> <td>7.2         </td> <td>24762         </td>\n",
       "        </tr>\n",
       "        <tr>\n",
       "            <td>1927</td> <td>8.63        </td> <td>22766         </td>\n",
       "        </tr>\n",
       "        <tr>\n",
       "            <td>1928</td> <td>10.71       </td> <td>18766         </td>\n",
       "        </tr>\n",
       "        <tr>\n",
       "            <td>1929</td> <td>6.36        </td> <td>35702         </td>\n",
       "        </tr>\n",
       "        <tr>\n",
       "            <td>1930</td> <td>10.5        </td> <td>23718         </td>\n",
       "        </tr>\n",
       "        <tr>\n",
       "            <td>1931</td> <td>5.81        </td> <td>39263         </td>\n",
       "        </tr>\n",
       "        <tr>\n",
       "            <td>1932</td> <td>4.71        </td> <td>38553         </td>\n",
       "        </tr>\n",
       "        <tr>\n",
       "            <td>1933</td> <td>4.6         </td> <td>36540         </td>\n",
       "        </tr>\n",
       "    </tbody>\n",
       "</table>\n",
       "<p>... (5 rows omitted)</p>"
      ],
      "text/plain": [
       "Year | Orange Price | Orange Unloads\n",
       "1924 | 6.63         | 21258\n",
       "1925 | 9.19         | 15426\n",
       "1926 | 7.2          | 24762\n",
       "1927 | 8.63         | 22766\n",
       "1928 | 10.71        | 18766\n",
       "1929 | 6.36         | 35702\n",
       "1930 | 10.5         | 23718\n",
       "1931 | 5.81         | 39263\n",
       "1932 | 4.71         | 38553\n",
       "1933 | 4.6          | 36540\n",
       "... (5 rows omitted)"
      ]
     },
     "execution_count": 3,
     "metadata": {},
     "output_type": "execute_result"
    }
   ],
   "source": [
    "oranges = fruitprice.select(\"Year\", \"Orange Price\", \"Orange Unloads\")\n",
    "oranges"
   ]
  },
  {
   "cell_type": "markdown",
   "metadata": {
    "cell_id": "8c900ffc-173d-4c91-97c9-e1d8924c8d67"
   },
   "source": [
    "Next, we will rename our columns. In this case, let's rename `Orange Unloads` to `Quantity` and `Orange Price` to `Price` for brevity and understandability. "
   ]
  },
  {
   "cell_type": "code",
   "execution_count": 4,
   "metadata": {
    "cell_id": "254b8839-cf4f-460b-a597-c267ad6ebb84"
   },
   "outputs": [
    {
     "data": {
      "text/html": [
       "<table border=\"1\" class=\"dataframe\">\n",
       "    <thead>\n",
       "        <tr>\n",
       "            <th>Year</th> <th>Price</th> <th>Quantity</th>\n",
       "        </tr>\n",
       "    </thead>\n",
       "    <tbody>\n",
       "        <tr>\n",
       "            <td>1924</td> <td>6.63 </td> <td>21258   </td>\n",
       "        </tr>\n",
       "        <tr>\n",
       "            <td>1925</td> <td>9.19 </td> <td>15426   </td>\n",
       "        </tr>\n",
       "        <tr>\n",
       "            <td>1926</td> <td>7.2  </td> <td>24762   </td>\n",
       "        </tr>\n",
       "        <tr>\n",
       "            <td>1927</td> <td>8.63 </td> <td>22766   </td>\n",
       "        </tr>\n",
       "        <tr>\n",
       "            <td>1928</td> <td>10.71</td> <td>18766   </td>\n",
       "        </tr>\n",
       "        <tr>\n",
       "            <td>1929</td> <td>6.36 </td> <td>35702   </td>\n",
       "        </tr>\n",
       "        <tr>\n",
       "            <td>1930</td> <td>10.5 </td> <td>23718   </td>\n",
       "        </tr>\n",
       "        <tr>\n",
       "            <td>1931</td> <td>5.81 </td> <td>39263   </td>\n",
       "        </tr>\n",
       "        <tr>\n",
       "            <td>1932</td> <td>4.71 </td> <td>38553   </td>\n",
       "        </tr>\n",
       "        <tr>\n",
       "            <td>1933</td> <td>4.6  </td> <td>36540   </td>\n",
       "        </tr>\n",
       "    </tbody>\n",
       "</table>\n",
       "<p>... (5 rows omitted)</p>"
      ],
      "text/plain": [
       "Year | Price | Quantity\n",
       "1924 | 6.63  | 21258\n",
       "1925 | 9.19  | 15426\n",
       "1926 | 7.2   | 24762\n",
       "1927 | 8.63  | 22766\n",
       "1928 | 10.71 | 18766\n",
       "1929 | 6.36  | 35702\n",
       "1930 | 10.5  | 23718\n",
       "1931 | 5.81  | 39263\n",
       "1932 | 4.71  | 38553\n",
       "1933 | 4.6   | 36540\n",
       "... (5 rows omitted)"
      ]
     },
     "execution_count": 4,
     "metadata": {},
     "output_type": "execute_result"
    }
   ],
   "source": [
    "orangesRenamed = oranges.relabel(\"Orange Unloads\", \"Quantity\").relabel(\"Orange Price\", \"Price\")\n",
    "orangesRenamed"
   ]
  },
  {
   "cell_type": "markdown",
   "metadata": {
    "cell_id": "d3a20db0-45a5-4ca0-8edf-ae8fe730017c"
   },
   "source": [
    "## Step 2: Visualize relationship\n",
    "\n",
    "To construct the demand curve, let's first see what the relationship between price and quantity is. \n",
    "We would expect to see a downward-sloping line between price and quantity; if a product's price increases, consumers will purchase less, and if a product's price decreases, then consumers will purchase more. \n",
    "\n",
    "To find this, we will create a scatterplot and draw a regression line (`fit_line = True`) between the points. \n",
    "Regression lines are helpful because they consolidate all the datapoints into a single line, helping us better understand the relationship between the two variables. "
   ]
  },
  {
   "cell_type": "code",
   "execution_count": 5,
   "metadata": {
    "cell_id": "b7a2e982-d79e-4094-a295-d8edea5e3c12"
   },
   "outputs": [
    {
     "data": {
      "image/png": "[encoded data removed]",
      "text/plain": [
       "<Figure size 500x500 with 1 Axes>"
      ]
     },
     "metadata": {
      "needs_background": "light"
     },
     "output_type": "display_data"
    }
   ],
   "source": [
    "mpl.rcParams['figure.dpi'] = 100\n",
    "orangesRenamed.scatter(\"Quantity\", \"Price\", fit_line = True)\n",
    "plt.title(\"Demand Curve for Oranges\", fontsize = 18);"
   ]
  },
  {
   "cell_type": "markdown",
   "metadata": {
    "cell_id": "46555368-2878-4561-b1bf-34051f611d06"
   },
   "source": [
    "The visualization shows a negative relationship between quantity and price, which is exactly what we expected! As we've discussed, as the price increases, fewer consumers will purchase the oranges, so the quantity demanded will decrease. This corresponds to a leftward movement along the demand curve. Alternatively, as the price decreases, the quantity sold will increase because consumers want to maximize their purchasing power and buy more oranges; this is shown by a rightward movement along the curve.\n",
    "\n",
    "\n",
    "As a quick refresher, scatterplots can show positive, negative, or neutral correlations among two variables: \n",
    "- If two variables have a positive correlation, then as one variable increases, the other increases too. \n",
    "- If two variables have a negative correlation, then as one variable increass, the other decreases. \n",
    "- If two variables have a neutral correlation, then if one varible increases, the other variable stays constant. \n",
    "\n",
    "Note that scatterplots do not show or prove causation between two variables-- it is up to the data scientists to prove any causation. \n",
    "\n",
    "## Step 3: Polyfit\n",
    "\n",
    "We will now quantify our demand curve using NumPy's polyfit function [https://numpy.org/doc/stable/reference/generated/numpy.polyfit.html]. `np.polyfit(...)` returns an array of size 2, where the first element is the slope and the second is the $y$-intercept.\n",
    "\n",
    "It takes 3 parameters\n",
    "- array of x-coordinates\n",
    "- array of y-coordinates\n",
    "- degree of polynomial \n",
    "\n",
    "Because we are looking for a **linear** function to serve as the demand curve, we will use 1 for the degree of polynomial. \n",
    "\n",
    "The general template for the demand curve is $y = mx + b$, where $m$ is the slope and $b$ is $y$-intercept. \n",
    "In economic terms, $m$ is the demand curve's slope that shows how the good's price affects the quantity demanded, and $b$ encompasses the effects of all of the exogenous non-price factors that affect demand. "
   ]
  },
  {
   "cell_type": "code",
   "execution_count": 6,
   "metadata": {
    "cell_id": "42bf023c-0b5a-4f12-8158-dcf58f137185"
   },
   "outputs": [
    {
     "data": {
      "text/plain": [
       "array([-2.14089690e-04,  1.33040264e+01])"
      ]
     },
     "execution_count": 6,
     "metadata": {},
     "output_type": "execute_result"
    }
   ],
   "source": [
    "np.polyfit(orangesRenamed.column(\"Quantity\"),orangesRenamed.column(\"Price\"), 1)"
   ]
  },
  {
   "cell_type": "markdown",
   "metadata": {
    "cell_id": "27c4081e-219e-4dba-a16c-44cd17e8fa5c"
   },
   "source": [
    "This shows that the demand curve is $y = -0.000214x+ 13.3$. The slope is -0.000214 and $y$-intercept is 13.3. That means that as quantity increases by 1 unit (in this case, 1 ton), price decreases by 0.000214 units (in this case, \\\\$0.000214). \n",
    "\n",
    "## Step 4: Demand Curve\n",
    "\n",
    "We will now use SymPy to write out this demand curve. "
   ]
  },
  {
   "cell_type": "code",
   "execution_count": 7,
   "metadata": {
    "cell_id": "d06b28f9-96eb-480c-8a10-3ba4981be472"
   },
   "outputs": [
    {
     "data": {
      "text/latex": [
       "$\\displaystyle 13.3 - 0.000214 Q$"
      ],
      "text/plain": [
       "13.3 - 0.000214*Q"
      ]
     },
     "execution_count": 7,
     "metadata": {},
     "output_type": "execute_result"
    }
   ],
   "source": [
    "Q = sympy.Symbol(\"Q\")\n",
    "demand = -0.000214 * Q + 13.3\n",
    "demand"
   ]
  },
  {
   "cell_type": "markdown",
   "metadata": {},
   "source": [
    "This means that for every unit of quantity, the demand curve decreases by 0.000214. It originally starts out at 13.3 units "
   ]
  },
  {
   "cell_type": "markdown",
   "metadata": {
    "cell_id": "14d44625-4f20-443d-9ce0-304bd60c6c61"
   },
   "source": [
    "## Step 5: Supply Curve\n",
    "\n",
    "As we will learn, the supply curve is the relationship between the price of a good or service and the quantity of that good or service that the seller is willing to supply. They show how much of a good suppliers are willing and able to supply at different prices. In this case, as the price of the beef increases, the quantity of beef that beef manufacturers are willing to supply increases. They capture the producer's side of market decisions and are upward-sloping.\n",
    "\n",
    "Let's now assume that the supply curve is given by $y = 0.00023x + 0.8$. \n",
    "Note that this supply curve is not based on data."
   ]
  },
  {
   "cell_type": "code",
   "execution_count": 8,
   "metadata": {
    "cell_id": "f9654557-6972-4ba9-948b-f7ff7a48a61f"
   },
   "outputs": [
    {
     "data": {
      "text/latex": [
       "$\\displaystyle 0.00023 Q + 0.8$"
      ],
      "text/plain": [
       "0.00023*Q + 0.8"
      ]
     },
     "execution_count": 8,
     "metadata": {},
     "output_type": "execute_result"
    }
   ],
   "source": [
    "supply = 0.00023 * Q + 0.8\n",
    "supply"
   ]
  },
  {
   "cell_type": "markdown",
   "metadata": {},
   "source": [
    " This means that as the quantity of oranges produced increases by 1, the supply curve increases by 0.00023. It originally starts out with 0.8."
   ]
  },
  {
   "cell_type": "markdown",
   "metadata": {
    "cell_id": "571c23b2-4d84-4173-9ff4-bbe1da039e5f",
    "tags": []
   },
   "source": [
    "## Step 6: Quantity Equilibrium\n",
    "\n",
    "With the supply and demand curves known, we can solve the for equilibrium. \n",
    "The equilibrium is the point where the supply curve and demand curve intersect, and denotes the price and quantity of the good transacted in the market.\n",
    "At this point, the quantity of the good that consumers desire to purchase is equivalent to the quantity of the good that producers supply; there is no shortage or surplus of the good at this quantity. \n",
    "The equilbrium consists of 2 components: the quantity equilbrium and price equilbrium. \n",
    "The quantity equilibrium is the quantity at which the supply curve and demand curve intersect.\n",
    "\n",
    "Let's find the quantity equilibrium for this exercise."
   ]
  },
  {
   "cell_type": "code",
   "execution_count": 9,
   "metadata": {
    "cell_id": "6e28af89-0a83-465e-bb24-d7e66c9b978e"
   },
   "outputs": [
    {
     "data": {
      "text/latex": [
       "$\\displaystyle 28153.1531531532$"
      ],
      "text/plain": [
       "28153.1531531532"
      ]
     },
     "execution_count": 9,
     "metadata": {},
     "output_type": "execute_result"
    }
   ],
   "source": [
    "Q_star = solve(demand, supply)\n",
    "Q_star"
   ]
  },
  {
   "cell_type": "markdown",
   "metadata": {
    "cell_id": "35482561-c903-4cc5-a072-7e7b50e586c8"
   },
   "source": [
    "This means that the number of tons of oranges that consumers want to purchase and producers want to provide in this market is about 28,153 tons of oranges. "
   ]
  },
  {
   "cell_type": "markdown",
   "metadata": {
    "cell_id": "54f6442c-ec0f-430f-bc25-8a37ca24aaa5"
   },
   "source": [
    "## Step 7: Price Equilibrium\n",
    "\n",
    "Similarly, the price equilibrium is the price at which the supply curve and demand curve intersect. The price of the good that consumers desire to purchase at is equivalent to the price of the good that producers want to sell at. There is no shortage of surplus of the product at this price.\n",
    "\n",
    "Let's find the price equilibrium. "
   ]
  },
  {
   "cell_type": "markdown",
   "metadata": {
    "cell_id": "c5f460c0-0f5c-4b6b-9a2f-a89bf9bf8345"
   },
   "source": []
  },
  {
   "cell_type": "code",
   "execution_count": 10,
   "metadata": {
    "cell_id": "082dbd17-910a-4073-82ef-75ec53c98ceb"
   },
   "outputs": [
    {
     "data": {
      "text/latex": [
       "$\\displaystyle 7.27522522522523$"
      ],
      "text/plain": [
       "7.27522522522523"
      ]
     },
     "execution_count": 10,
     "metadata": {},
     "output_type": "execute_result"
    }
   ],
   "source": [
    "demand.subs(Q, Q_star)\n",
    "supply.subs(Q, Q_star)"
   ]
  },
  {
   "cell_type": "markdown",
   "metadata": {
    "cell_id": "6e9a1d0d-3f17-425b-920f-531d4160c2c5"
   },
   "source": [
    "This means that the price of oranges in tons that consumers want to purchase at and producers want to provide is about \\\\$7.27. \n",
    "\n",
    "## Step 8: Market equilibrium \n",
    "\n",
    "Now that we have our demand and supply curves and price and quantity equilibriums, we can visualize them on a graph to see what they look like. \n",
    "\n",
    "There are 2 pre-made functions we will use: `plot_equation` and `plot_intercept`.\n",
    "- `plot_equation`: It takes in the equation we made previously (either demand or supply) and visualizes the equations between the different prices we give it\n",
    "- `plot_intercept`: It takes in two different equations (demand and supply), finds the point at which the two intersect, and creates a scatter plot of the result"
   ]
  },
  {
   "cell_type": "code",
   "execution_count": 11,
   "metadata": {},
   "outputs": [],
   "source": [
    "def plot_equation(equation, price_start, price_end, label=None):\n",
    "    plot_prices = [price_start, price_end]\n",
    "    plot_quantities = [equation.subs(list(equation.free_symbols)[0], c) for c in plot_prices]\n",
    "    plt.plot(plot_prices, plot_quantities, label=label)\n",
    "    \n",
    "def plot_intercept(eq1, eq2):\n",
    "    ex = sympy.solve(eq1-eq2)[0]\n",
    "    why = eq1.subs(list(eq1.free_symbols)[0], ex)\n",
    "    plt.scatter([ex], [why])\n",
    "    return (ex, why)"
   ]
  },
  {
   "cell_type": "code",
   "execution_count": 12,
   "metadata": {
    "cell_id": "f5d296fd-a13d-4b0b-a22d-a22806cb498c"
   },
   "outputs": [
    {
     "data": {
      "image/png": "[encoded data removed]",
      "text/plain": [
       "<Figure size 900x600 with 1 Axes>"
      ]
     },
     "metadata": {
      "needs_background": "light"
     },
     "output_type": "display_data"
    }
   ],
   "source": [
    "mpl.rcParams['figure.dpi'] = 150\n",
    "plot_equation(demand, 5000, 50000, label = \"Demand\")\n",
    "plot_equation(supply, 5000, 50000, label = \"Supply\")\n",
    "plt.ylim(0,13)\n",
    "plt.title(\"Orange Supply and Demand in 1920's and 1930's\", fontsize = 20)\n",
    "plt.xlabel(\"Quantity (Tons)\", fontsize = 14)\n",
    "plt.ylabel(\"Price ($)\", fontsize = 14)\n",
    "plot_intercept(supply, demand)\n",
    "plt.legend(loc = \"upper right\", fontsize = 12)\n",
    "plt.show()"
   ]
  },
  {
   "cell_type": "markdown",
   "metadata": {
    "cell_id": "feb1ae9b-936c-49da-be36-2a6847d8486e"
   },
   "source": [
    "You can also practice on your own and download additional data sets here: http://users.stat.ufl.edu/~winner/datasets.html, courtesy of the University of Flordia's Statistics Department. "
   ]
  }
 ],
 "metadata": {
  "deepnote_execution_queue": [],
  "deepnote_notebook_id": "f509604e-9b0f-4e84-8507-5059a251e9d4",
  "kernelspec": {
   "display_name": "Python 3",
   "language": "python",
   "name": "python3"
  },
  "language_info": {
   "codemirror_mode": {
    "name": "ipython",
    "version": 3
   },
   "file_extension": ".py",
   "mimetype": "text/x-python",
   "name": "python",
   "nbconvert_exporter": "python",
   "pygments_lexer": "ipython3",
   "version": "3.8.1"
  }
 },
 "nbformat": 4,
 "nbformat_minor": 2
}
