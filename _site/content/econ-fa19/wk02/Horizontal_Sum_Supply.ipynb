{
 "cells": [
  {
   "cell_type": "markdown",
   "metadata": {},
   "source": [
    "# Horizontal Sum Supply"
   ]
  },
  {
   "cell_type": "code",
   "execution_count": 2,
   "metadata": {},
   "outputs": [],
   "source": [
    "# HIDDEN\n",
    "import qgrid\n",
    "import numpy as np\n",
    "import pandas as pd\n",
    "import matplotlib.pyplot as plt\n",
    "%matplotlib inline"
   ]
  },
  {
   "cell_type": "markdown",
   "metadata": {},
   "source": [
    "This Notebook will demonstrate using QGrid - a way to interact with the data in a table.  Unfortunately Qgrid works with Pandas, so this Notebook uses a pandas Dataframe as its data source. Here is the outline for this notebook:\n",
    "1. First we will read in a dataframe with some Supply functions for 3 firms, they have 3 quantities they will supply at three possible prices\n",
    "2. In the first part Firm C is not producing anything , and production is set at zero\n",
    "3. We will create a market supply by summing the supply from Firm A and Firm B\n",
    "4. When the widget is created - you can enter and edit the values of the cells\n"
   ]
  },
  {
   "cell_type": "markdown",
   "metadata": {},
   "source": [
    "## DataFrame Widget##"
   ]
  },
  {
   "cell_type": "code",
   "execution_count": 3,
   "metadata": {},
   "outputs": [
    {
     "data": {
      "application/vnd.jupyter.widget-view+json": {
       "model_id": "6eab339a2feb481b953960a2e09917f9",
       "version_major": 2,
       "version_minor": 0
      },
      "text/plain": [
       "QgridWidget(grid_options={'fullWidthRows': True, 'syncColumnCellResize': True, 'forceFitColumns': True, 'defau…"
      ]
     },
     "metadata": {},
     "output_type": "display_data"
    }
   ],
   "source": [
    "df_Market = pd.DataFrame({\n",
    "    'Price' : [5, 10, 15],\n",
    "    'A' : [20, 30, 40],\n",
    "    'B' : [25, 35, 50], \n",
    "    'C' : [0, 0, 0],  })\n",
    "\n",
    "df_Market['Total_Supply_ABC'] = df_Market['A'] + df_Market['B']+ df_Market['C']\n",
    "\n",
    "qgrid_widget = qgrid.show_grid(df_Market, show_toolbar=True)\n",
    "qgrid_widget"
   ]
  },
  {
   "cell_type": "markdown",
   "metadata": {},
   "source": [
    "So go in and play around with different values for firm C. Try $[12,17,55]$ or $[0,25,55]$.\n",
    "\n",
    "What do we have to assume about C? It has to increase or stay the same as Price increases."
   ]
  },
  {
   "cell_type": "markdown",
   "metadata": {},
   "source": [
    "*Note - if you manipulate the data in the Qgrid widget - you need to save the dataframe - here we rename it as `updated_df`*"
   ]
  },
  {
   "cell_type": "code",
   "execution_count": 4,
   "metadata": {},
   "outputs": [
    {
     "data": {
      "text/html": [
       "<div>\n",
       "<style scoped>\n",
       "    .dataframe tbody tr th:only-of-type {\n",
       "        vertical-align: middle;\n",
       "    }\n",
       "\n",
       "    .dataframe tbody tr th {\n",
       "        vertical-align: top;\n",
       "    }\n",
       "\n",
       "    .dataframe thead th {\n",
       "        text-align: right;\n",
       "    }\n",
       "</style>\n",
       "<table border=\"1\" class=\"dataframe\">\n",
       "  <thead>\n",
       "    <tr style=\"text-align: right;\">\n",
       "      <th></th>\n",
       "      <th>A</th>\n",
       "      <th>B</th>\n",
       "      <th>C</th>\n",
       "      <th>Price</th>\n",
       "      <th>Total_Supply_ABC</th>\n",
       "    </tr>\n",
       "  </thead>\n",
       "  <tbody>\n",
       "    <tr>\n",
       "      <th>0</th>\n",
       "      <td>20</td>\n",
       "      <td>25</td>\n",
       "      <td>0</td>\n",
       "      <td>5</td>\n",
       "      <td>45</td>\n",
       "    </tr>\n",
       "    <tr>\n",
       "      <th>1</th>\n",
       "      <td>30</td>\n",
       "      <td>35</td>\n",
       "      <td>0</td>\n",
       "      <td>10</td>\n",
       "      <td>65</td>\n",
       "    </tr>\n",
       "    <tr>\n",
       "      <th>2</th>\n",
       "      <td>40</td>\n",
       "      <td>50</td>\n",
       "      <td>0</td>\n",
       "      <td>15</td>\n",
       "      <td>90</td>\n",
       "    </tr>\n",
       "  </tbody>\n",
       "</table>\n",
       "</div>"
      ],
      "text/plain": [
       "    A   B  C  Price  Total_Supply_ABC\n",
       "0  20  25  0      5                45\n",
       "1  30  35  0     10                65\n",
       "2  40  50  0     15                90"
      ]
     },
     "execution_count": 4,
     "metadata": {},
     "output_type": "execute_result"
    }
   ],
   "source": [
    "updated_df=qgrid_widget.get_changed_df()\n",
    "updated_df['Total_Supply_ABC'] = updated_df['A'] + updated_df['B']+ updated_df['C']\n",
    "updated_df"
   ]
  },
  {
   "cell_type": "markdown",
   "metadata": {},
   "source": [
    "## Graphing##\n",
    "Now we are going to graph the individual supply curves of each firm, alongside the total Supply to crease a Market Supply"
   ]
  },
  {
   "cell_type": "code",
   "execution_count": 5,
   "metadata": {},
   "outputs": [
    {
     "data": {
      "image/png": "[encoded data removed]",
      "text/plain": [
       "<Figure size 432x288 with 1 Axes>"
      ]
     },
     "metadata": {},
     "output_type": "display_data"
    }
   ],
   "source": [
    "# NO CODE\n",
    "ax = plt.gca()\n",
    "updated_df.plot(kind='line', y='Price', x='A', ax=ax)\n",
    "updated_df.plot(kind='line', y='Price', x='B', ax=ax)\n",
    "updated_df.plot(kind='line', y='Price', x='C', ax=ax)\n",
    "updated_df.plot(kind='line', y='Price', x='Total_Supply_ABC', ax=ax)\n",
    "plt.xlabel('Quantity')\n",
    "plt.ylabel('Price')\n",
    "plt.title('Market Supply')\n",
    "plt.legend((\"Quantity supplied by A\",\"Quantity supplied by B\",\"Quantity supplied by C\", \"Market Supply A+B\"), bbox_to_anchor=(1.04,1), loc=\"center left\")\n",
    "\n",
    "plt.show()"
   ]
  },
  {
   "cell_type": "markdown",
   "metadata": {},
   "source": [
    "## Thought Questions ##\n",
    "\n",
    "1.  Can the individual supply lines cross?\n",
    "\n",
    "2. Can individual supply schedules = 0, at a lower price?\n",
    "\n",
    "3. Can lines bend backwards?\n"
   ]
  },
  {
   "cell_type": "markdown",
   "metadata": {},
   "source": [
    "##  Market Analysis \n",
    "\n",
    "### Supply, Demand, and New Market Entrant\n",
    "Let's start again and add in\n",
    "1. A demand function\n",
    "2. A comparison of the supply with just firms A and B to with a third firm C\n",
    "3. What happens to equilibrium Price and Quantity?"
   ]
  },
  {
   "cell_type": "code",
   "execution_count": 6,
   "metadata": {},
   "outputs": [
    {
     "data": {
      "application/vnd.jupyter.widget-view+json": {
       "model_id": "59d5e8bc5a6242f1bee2a50c076833ae",
       "version_major": 2,
       "version_minor": 0
      },
      "text/plain": [
       "QgridWidget(grid_options={'fullWidthRows': True, 'syncColumnCellResize': True, 'forceFitColumns': True, 'defau…"
      ]
     },
     "metadata": {},
     "output_type": "display_data"
    }
   ],
   "source": [
    "qgrid_widget = qgrid.show_grid(updated_df, show_toolbar=True)\n",
    "qgrid_widget"
   ]
  },
  {
   "cell_type": "code",
   "execution_count": 7,
   "metadata": {},
   "outputs": [],
   "source": [
    "updated_df=qgrid_widget.get_changed_df()\n",
    "updated_df['Total_Supply_AB'] = updated_df['A'] + updated_df['B'] \n",
    "updated_df['Total_Supply_ABC'] = updated_df['A'] + updated_df['B'] + updated_df['C']"
   ]
  },
  {
   "cell_type": "markdown",
   "metadata": {},
   "source": [
    "Lets specify a Demand curve - prices and quantities - so we need Quantities demanded that correspond to a price of [5,10,15]"
   ]
  },
  {
   "cell_type": "code",
   "execution_count": 10,
   "metadata": {},
   "outputs": [
    {
     "data": {
      "text/html": [
       "<div>\n",
       "<style scoped>\n",
       "    .dataframe tbody tr th:only-of-type {\n",
       "        vertical-align: middle;\n",
       "    }\n",
       "\n",
       "    .dataframe tbody tr th {\n",
       "        vertical-align: top;\n",
       "    }\n",
       "\n",
       "    .dataframe thead th {\n",
       "        text-align: right;\n",
       "    }\n",
       "</style>\n",
       "<table border=\"1\" class=\"dataframe\">\n",
       "  <thead>\n",
       "    <tr style=\"text-align: right;\">\n",
       "      <th></th>\n",
       "      <th>A</th>\n",
       "      <th>B</th>\n",
       "      <th>C</th>\n",
       "      <th>Price</th>\n",
       "      <th>Total_Supply_ABC</th>\n",
       "      <th>Total_Supply_AB</th>\n",
       "      <th>Demand</th>\n",
       "    </tr>\n",
       "  </thead>\n",
       "  <tbody>\n",
       "    <tr>\n",
       "      <th>0</th>\n",
       "      <td>20</td>\n",
       "      <td>25</td>\n",
       "      <td>0</td>\n",
       "      <td>5</td>\n",
       "      <td>45</td>\n",
       "      <td>45</td>\n",
       "      <td>100</td>\n",
       "    </tr>\n",
       "    <tr>\n",
       "      <th>1</th>\n",
       "      <td>30</td>\n",
       "      <td>35</td>\n",
       "      <td>0</td>\n",
       "      <td>10</td>\n",
       "      <td>65</td>\n",
       "      <td>65</td>\n",
       "      <td>75</td>\n",
       "    </tr>\n",
       "    <tr>\n",
       "      <th>2</th>\n",
       "      <td>40</td>\n",
       "      <td>50</td>\n",
       "      <td>0</td>\n",
       "      <td>15</td>\n",
       "      <td>90</td>\n",
       "      <td>90</td>\n",
       "      <td>50</td>\n",
       "    </tr>\n",
       "  </tbody>\n",
       "</table>\n",
       "</div>"
      ],
      "text/plain": [
       "    A   B  C  Price  Total_Supply_ABC  Total_Supply_AB  Demand\n",
       "0  20  25  0      5                45               45     100\n",
       "1  30  35  0     10                65               65      75\n",
       "2  40  50  0     15                90               90      50"
      ]
     },
     "execution_count": 10,
     "metadata": {},
     "output_type": "execute_result"
    }
   ],
   "source": [
    "Demand = [100,75,50]\n",
    "updated_df['Demand'] = Demand\n",
    "updated_df"
   ]
  },
  {
   "cell_type": "markdown",
   "metadata": {},
   "source": [
    "Now let's visualize the market supply."
   ]
  },
  {
   "cell_type": "code",
   "execution_count": 11,
   "metadata": {},
   "outputs": [
    {
     "data": {
      "image/png": "[encoded data removed]",
      "text/plain": [
       "<Figure size 432x288 with 1 Axes>"
      ]
     },
     "metadata": {},
     "output_type": "display_data"
    }
   ],
   "source": [
    "# NO CODE\n",
    "ax = plt.gca()\n",
    "updated_df.plot(kind='line', y='Price', x='A', ax=ax)\n",
    "updated_df.plot(kind='line', y='Price', x='B', ax=ax)\n",
    "updated_df.plot(kind='line', y='Price', x='C', ax=ax)\n",
    "updated_df.plot(kind='line', y='Price', x='Total_Supply_AB', ax=ax)\n",
    "updated_df.plot(kind='line', y='Price', x='Total_Supply_ABC', ax=ax)\n",
    "updated_df.plot(kind='line', y='Price', x='Demand', ax=ax)\n",
    "\n",
    "plt.xlabel('Quantity')\n",
    "plt.ylabel('Price')\n",
    "plt.title('Market Supply')\n",
    "plt.legend((\"Quantity supplied by A\",\"Quantity supplied by B\",\"Quantity supplied by C\", \"Supply_AB\",\"Supply_ABC\", \"Total Demand\" ), bbox_to_anchor=(1.04,1), loc=\"center left\")\n",
    "\n",
    "plt.show()"
   ]
  },
  {
   "cell_type": "markdown",
   "metadata": {},
   "source": [
    "## More Thought Questions\n",
    "\n",
    "1. What happens to the market price and quantity?  Can you eyeball the changes?\n",
    "2. What happens to each individual producer - can you tell from this graph?\n",
    "3. Should firm C enter the market?"
   ]
  },
  {
   "cell_type": "markdown",
   "metadata": {},
   "source": [
    " "
   ]
  }
 ],
 "metadata": {
  "kernelspec": {
   "display_name": "Python 3",
   "language": "python",
   "name": "python3"
  },
  "language_info": {
   "codemirror_mode": {
    "name": "ipython",
    "version": 3
   },
   "file_extension": ".py",
   "mimetype": "text/x-python",
   "name": "python",
   "nbconvert_exporter": "python",
   "pygments_lexer": "ipython3",
   "version": "3.6.5"
  },
  "varInspector": {
   "cols": {
    "lenName": 16,
    "lenType": 16,
    "lenVar": 40
   },
   "kernels_config": {
    "python": {
     "delete_cmd_postfix": "",
     "delete_cmd_prefix": "del ",
     "library": "var_list.py",
     "varRefreshCmd": "print(var_dic_list())"
    },
    "r": {
     "delete_cmd_postfix": ") ",
     "delete_cmd_prefix": "rm(",
     "library": "var_list.r",
     "varRefreshCmd": "cat(var_dic_list()) "
    }
   },
   "types_to_exclude": [
    "module",
    "function",
    "builtin_function_or_method",
    "instance",
    "_Feature"
   ],
   "window_display": false
  }
 },
 "nbformat": 4,
 "nbformat_minor": 2
}
