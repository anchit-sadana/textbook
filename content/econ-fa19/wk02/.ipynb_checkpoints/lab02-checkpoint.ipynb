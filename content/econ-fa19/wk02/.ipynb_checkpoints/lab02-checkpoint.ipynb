{
 "cells": [
  {
   "cell_type": "markdown",
   "metadata": {},
   "source": [
    "# Lab 2: Supply and Firm Behavior"
   ]
  },
  {
   "cell_type": "code",
   "execution_count": 30,
   "metadata": {
    "tags": [
     "hide_input"
    ]
   },
   "outputs": [],
   "source": [
    "# NO CODE\n",
    "from datascience import *\n",
    "import matplotlib.pyplot as plt\n",
    "%matplotlib inline\n",
    "import numpy as np\n",
    "import pandas as pd\n",
    "from utils import *\n",
    "plt.style.use('seaborn-muted')\n",
    "from __future__ import print_function\n",
    "from ipywidgets import interact, interactive, fixed, interact_manual\n",
    "import ipywidgets as widgets\n",
    "from matplotlib import patches\n",
    "import csaps"
   ]
  },
  {
   "cell_type": "markdown",
   "metadata": {},
   "source": [
    "Supply of a commodity refers to the quantity of a commodity which producers or sellers are willing produce and offer for sale at a particular price in some given period of time.\n",
    "\n",
    "Individual supply refers to supply offered by a single firm/producer. Market supply refers to supply offered by all the firms/producers in a market."
   ]
  },
  {
   "cell_type": "markdown",
   "metadata": {},
   "source": [
    "## Firms and Supply"
   ]
  },
  {
   "cell_type": "markdown",
   "metadata": {},
   "source": [
    "To answer questions like at a given price, what will be the supply of a good in the market, we need to know the market supply curve. A supply curve is simply a curve (or graph) which shows the different quantites of a good that can be produced and the prices they will be produced at.\n",
    "\n",
    "The individual supply curve shows the prices and quantities produced at those prices for a single firm. Market supply curve is the horizontal summation of the individual supply curves in the market.\n",
    "\n",
    "The following table and graph will give an example of a market with two firm: A and B."
   ]
  },
  {
   "cell_type": "code",
   "execution_count": 31,
   "metadata": {},
   "outputs": [
    {
     "data": {
      "text/html": [
       "<table border=\"1\" class=\"dataframe\">\n",
       "    <thead>\n",
       "        <tr>\n",
       "            <th>Price</th> <th>Quantity supplied by A</th> <th>Quantity supplied by B</th> <th>Market Supply</th>\n",
       "        </tr>\n",
       "    </thead>\n",
       "    <tbody>\n",
       "        <tr>\n",
       "            <td>2    </td> <td>20                    </td> <td>30                    </td> <td>50           </td>\n",
       "        </tr>\n",
       "        <tr>\n",
       "            <td>3    </td> <td>30                    </td> <td>40                    </td> <td>70           </td>\n",
       "        </tr>\n",
       "        <tr>\n",
       "            <td>4    </td> <td>40                    </td> <td>50                    </td> <td>90           </td>\n",
       "        </tr>\n",
       "    </tbody>\n",
       "</table>"
      ],
      "text/plain": [
       "Price | Quantity supplied by A | Quantity supplied by B | Market Supply\n",
       "2     | 20                     | 30                     | 50\n",
       "3     | 30                     | 40                     | 70\n",
       "4     | 40                     | 50                     | 90"
      ]
     },
     "execution_count": 31,
     "metadata": {},
     "output_type": "execute_result"
    }
   ],
   "source": [
    "market_supply = Table().with_columns(\"Price\", make_array(2, 3, 4),\n",
    "                                     \"Quantity supplied by A\", make_array(20, 30, 40),\n",
    "                                     \"Quantity supplied by B\", make_array(30, 40, 50),\n",
    "                                     \"Market Supply\", make_array(50, 70, 90))\n",
    "market_supply"
   ]
  },
  {
   "cell_type": "code",
   "execution_count": 32,
   "metadata": {
    "tags": [
     "hide_input"
    ]
   },
   "outputs": [
    {
     "data": {
      "image/png": "[encoded data removed]",
      "text/plain": [
       "<Figure size 432x288 with 1 Axes>"
      ]
     },
     "metadata": {},
     "output_type": "display_data"
    }
   ],
   "source": [
    "# NO CODE\n",
    "plt.plot(market_supply.column(1), market_supply.column(0), marker='o')\n",
    "plt.plot(market_supply.column(2), market_supply.column(0), marker='o')\n",
    "plt.plot(market_supply.column(3), market_supply.column(0), marker='o')\n",
    "plt.xlabel('Quantity')\n",
    "plt.ylabel('Price')\n",
    "plt.title('Market Supply')\n",
    "plt.legend(make_array(\"Quantity supplied by A\",\"Quantity supplied by B\",\"Market Supply\"), bbox_to_anchor=(1.04,1), loc=\"center left\")\n",
    "\n",
    "plt.show()"
   ]
  },
  {
   "cell_type": "markdown",
   "metadata": {},
   "source": [
    "Market behaviour relating to supply is based on the behaviour of the individual firms that comprise it. Now, how does an individual firm make its decision about production?\n",
    "\n",
    "It does so based on the costs associated with production. If the price of a good is enough to recover the costs, the firm produces. Generally, costs increase with the quantity of production. So, to induce producers to increase the quantity supplied, the prices need to increase to compensate for the increased costs."
   ]
  },
  {
   "cell_type": "markdown",
   "metadata": {},
   "source": [
    "We will split costs into two categories: Fixed costs and variable costs."
   ]
  },
  {
   "cell_type": "markdown",
   "metadata": {},
   "source": [
    "### Fixed Costs\n",
    "\n",
    "Fixed costs are costs associated with fixed factors (or inputs) of production. For example, land for a factory, capital equipment like machinery, etc. The quantity of these inputs cannot be changed quickly in the short term. A factory owner cannot purchase land quickly enough to ramp up production in a week. A key point to note is that fixed costs are irrespective of the quantity, i.e., they do not change with the quantity produced."
   ]
  },
  {
   "cell_type": "markdown",
   "metadata": {},
   "source": [
    "### Variable Costs\n",
    "\n",
    "Variable Costs are costs associated with variable factors (or inputs) of production. For example, labor, raw materials, etc. The quantity of these inputs can be changed quickly in the short term to adjust supply. A factory owner can hire more laborers or purchase more raw material to increase output. Variable costs change as the supply changes."
   ]
  },
  {
   "cell_type": "markdown",
   "metadata": {},
   "source": [
    "### Putting Them Together"
   ]
  },
  {
   "cell_type": "markdown",
   "metadata": {},
   "source": [
    "The following table will give an example of a firms costs. The columns are:\n",
    "\n",
    "* **Output:** Units produced and supplied\n",
    "* **Total Fixed Cost (TFC):** Cost incurred by firm on usage of all fixed factors.\n",
    "* **Total Variable Cost (TVC):** Cost incurred by firm on usage of all variable factors.\n",
    "* **Total Cost (TC):** Sum of the total fixed and variable costs\n",
    "* **Marginal Cost (MC):** Addition to total cost as one more unit of output is produced\n",
    "* **Average Fixed Cost (AFC):** Cost per unit of fixed factors\n",
    "* **Average Variable Cost (AVC):** Cost per unit of variable factors\n",
    "* **Average Total Cost (ATC):** Total cost per unit"
   ]
  },
  {
   "cell_type": "code",
   "execution_count": 33,
   "metadata": {},
   "outputs": [
    {
     "data": {
      "text/html": [
       "<table border=\"1\" class=\"dataframe\">\n",
       "    <thead>\n",
       "        <tr>\n",
       "            <th>Output</th> <th>Total Fixed Cost</th> <th>Total Variable Cost</th>\n",
       "        </tr>\n",
       "    </thead>\n",
       "    <tbody>\n",
       "        <tr>\n",
       "            <td>0     </td> <td>50              </td> <td>0                  </td>\n",
       "        </tr>\n",
       "        <tr>\n",
       "            <td>1     </td> <td>50              </td> <td>50                 </td>\n",
       "        </tr>\n",
       "        <tr>\n",
       "            <td>2     </td> <td>50              </td> <td>78                 </td>\n",
       "        </tr>\n",
       "        <tr>\n",
       "            <td>3     </td> <td>50              </td> <td>98                 </td>\n",
       "        </tr>\n",
       "        <tr>\n",
       "            <td>4     </td> <td>50              </td> <td>112                </td>\n",
       "        </tr>\n",
       "        <tr>\n",
       "            <td>5     </td> <td>50              </td> <td>130                </td>\n",
       "        </tr>\n",
       "        <tr>\n",
       "            <td>6     </td> <td>50              </td> <td>150                </td>\n",
       "        </tr>\n",
       "        <tr>\n",
       "            <td>7     </td> <td>50              </td> <td>175                </td>\n",
       "        </tr>\n",
       "        <tr>\n",
       "            <td>8     </td> <td>50              </td> <td>204                </td>\n",
       "        </tr>\n",
       "        <tr>\n",
       "            <td>9     </td> <td>50              </td> <td>242                </td>\n",
       "        </tr>\n",
       "    </tbody>\n",
       "</table>\n",
       "<p>... (2 rows omitted)</p>"
      ],
      "text/plain": [
       "Output | Total Fixed Cost | Total Variable Cost\n",
       "0      | 50               | 0\n",
       "1      | 50               | 50\n",
       "2      | 50               | 78\n",
       "3      | 50               | 98\n",
       "4      | 50               | 112\n",
       "5      | 50               | 130\n",
       "6      | 50               | 150\n",
       "7      | 50               | 175\n",
       "8      | 50               | 204\n",
       "9      | 50               | 242\n",
       "... (2 rows omitted)"
      ]
     },
     "execution_count": 33,
     "metadata": {},
     "output_type": "execute_result"
    }
   ],
   "source": [
    "individual_firm_costs = Table.read_table('individual_firm_costs.csv')\n",
    "individual_firm_costs"
   ]
  },
  {
   "cell_type": "markdown",
   "metadata": {},
   "source": [
    "We are going to calculate all of the above mentioned curves using the data above.\n",
    "\n",
    "First, lets calculate Total cost, which is the sum of total fixed cost and total variable cost.\n"
   ]
  },
  {
   "cell_type": "code",
   "execution_count": 34,
   "metadata": {},
   "outputs": [
    {
     "data": {
      "text/plain": [
       "array([ 50, 100, 128, 148, 162, 180, 200, 225, 254, 292, 350, 435])"
      ]
     },
     "execution_count": 34,
     "metadata": {},
     "output_type": "execute_result"
    }
   ],
   "source": [
    "total_cost = individual_firm_costs.column(\"Total Fixed Cost\") + individual_firm_costs.column(\"Total Variable Cost\")\n",
    "total_cost"
   ]
  },
  {
   "cell_type": "code",
   "execution_count": 35,
   "metadata": {},
   "outputs": [
    {
     "data": {
      "text/html": [
       "<table border=\"1\" class=\"dataframe\">\n",
       "    <thead>\n",
       "        <tr>\n",
       "            <th>Output</th> <th>Total Fixed Cost</th> <th>Total Variable Cost</th> <th>Total Cost</th>\n",
       "        </tr>\n",
       "    </thead>\n",
       "    <tbody>\n",
       "        <tr>\n",
       "            <td>0     </td> <td>50              </td> <td>0                  </td> <td>50        </td>\n",
       "        </tr>\n",
       "        <tr>\n",
       "            <td>1     </td> <td>50              </td> <td>50                 </td> <td>100       </td>\n",
       "        </tr>\n",
       "        <tr>\n",
       "            <td>2     </td> <td>50              </td> <td>78                 </td> <td>128       </td>\n",
       "        </tr>\n",
       "        <tr>\n",
       "            <td>3     </td> <td>50              </td> <td>98                 </td> <td>148       </td>\n",
       "        </tr>\n",
       "        <tr>\n",
       "            <td>4     </td> <td>50              </td> <td>112                </td> <td>162       </td>\n",
       "        </tr>\n",
       "        <tr>\n",
       "            <td>5     </td> <td>50              </td> <td>130                </td> <td>180       </td>\n",
       "        </tr>\n",
       "        <tr>\n",
       "            <td>6     </td> <td>50              </td> <td>150                </td> <td>200       </td>\n",
       "        </tr>\n",
       "        <tr>\n",
       "            <td>7     </td> <td>50              </td> <td>175                </td> <td>225       </td>\n",
       "        </tr>\n",
       "        <tr>\n",
       "            <td>8     </td> <td>50              </td> <td>204                </td> <td>254       </td>\n",
       "        </tr>\n",
       "        <tr>\n",
       "            <td>9     </td> <td>50              </td> <td>242                </td> <td>292       </td>\n",
       "        </tr>\n",
       "    </tbody>\n",
       "</table>\n",
       "<p>... (2 rows omitted)</p>"
      ],
      "text/plain": [
       "Output | Total Fixed Cost | Total Variable Cost | Total Cost\n",
       "0      | 50               | 0                   | 50\n",
       "1      | 50               | 50                  | 100\n",
       "2      | 50               | 78                  | 128\n",
       "3      | 50               | 98                  | 148\n",
       "4      | 50               | 112                 | 162\n",
       "5      | 50               | 130                 | 180\n",
       "6      | 50               | 150                 | 200\n",
       "7      | 50               | 175                 | 225\n",
       "8      | 50               | 204                 | 254\n",
       "9      | 50               | 242                 | 292\n",
       "... (2 rows omitted)"
      ]
     },
     "execution_count": 35,
     "metadata": {},
     "output_type": "execute_result"
    }
   ],
   "source": [
    "# adding the array to the table\n",
    "individual_firm_costs = individual_firm_costs.with_column(\"Total Cost\", total_cost)\n",
    "individual_firm_costs"
   ]
  },
  {
   "cell_type": "markdown",
   "metadata": {},
   "source": [
    "AFC can be calculated as the TFC divided by the output.\n",
    "\n",
    "First, however, note that at the zero level of output, we would by dividing by zero, which is invalid. So, we will calcuate for all other output levels and add the value for AFC manually at zero. While there should be no value for Average Fixed Cost at output zero, we will put a zero there for coding reasons. We will remove the first row by using `Table.take()` to select only rows in the range of indices from 1 to `num_rows`. Then `np.append(array1, array2)` merges the two arrays, with `array1` being the first array."
   ]
  },
  {
   "cell_type": "code",
   "execution_count": 36,
   "metadata": {},
   "outputs": [
    {
     "data": {
      "text/plain": [
       "array([ 0.        , 50.        , 25.        , 16.66666667, 12.5       ,\n",
       "       10.        ,  8.33333333,  7.14285714,  6.25      ,  5.55555556,\n",
       "        5.        ,  4.54545455])"
      ]
     },
     "execution_count": 36,
     "metadata": {},
     "output_type": "execute_result"
    }
   ],
   "source": [
    "individual_firm_costs_no_first = individual_firm_costs.take(np.arange(1, individual_firm_costs.num_rows))\n",
    "average_fixed_cost = individual_firm_costs_no_first.column(\"Total Fixed Cost\") / individual_firm_costs_no_first.column(\"Output\")\n",
    "average_fixed_cost = np.append(make_array(0), average_fixed_cost)\n",
    "average_fixed_cost"
   ]
  },
  {
   "cell_type": "code",
   "execution_count": 37,
   "metadata": {},
   "outputs": [
    {
     "data": {
      "text/html": [
       "<table border=\"1\" class=\"dataframe\">\n",
       "    <thead>\n",
       "        <tr>\n",
       "            <th>Output</th> <th>Total Fixed Cost</th> <th>Total Variable Cost</th> <th>Total Cost</th> <th>Average Fixed Cost</th>\n",
       "        </tr>\n",
       "    </thead>\n",
       "    <tbody>\n",
       "        <tr>\n",
       "            <td>0     </td> <td>50              </td> <td>0                  </td> <td>50        </td> <td>0                 </td>\n",
       "        </tr>\n",
       "        <tr>\n",
       "            <td>1     </td> <td>50              </td> <td>50                 </td> <td>100       </td> <td>50                </td>\n",
       "        </tr>\n",
       "        <tr>\n",
       "            <td>2     </td> <td>50              </td> <td>78                 </td> <td>128       </td> <td>25                </td>\n",
       "        </tr>\n",
       "        <tr>\n",
       "            <td>3     </td> <td>50              </td> <td>98                 </td> <td>148       </td> <td>16.6667           </td>\n",
       "        </tr>\n",
       "        <tr>\n",
       "            <td>4     </td> <td>50              </td> <td>112                </td> <td>162       </td> <td>12.5              </td>\n",
       "        </tr>\n",
       "        <tr>\n",
       "            <td>5     </td> <td>50              </td> <td>130                </td> <td>180       </td> <td>10                </td>\n",
       "        </tr>\n",
       "        <tr>\n",
       "            <td>6     </td> <td>50              </td> <td>150                </td> <td>200       </td> <td>8.33333           </td>\n",
       "        </tr>\n",
       "        <tr>\n",
       "            <td>7     </td> <td>50              </td> <td>175                </td> <td>225       </td> <td>7.14286           </td>\n",
       "        </tr>\n",
       "        <tr>\n",
       "            <td>8     </td> <td>50              </td> <td>204                </td> <td>254       </td> <td>6.25              </td>\n",
       "        </tr>\n",
       "        <tr>\n",
       "            <td>9     </td> <td>50              </td> <td>242                </td> <td>292       </td> <td>5.55556           </td>\n",
       "        </tr>\n",
       "    </tbody>\n",
       "</table>\n",
       "<p>... (2 rows omitted)</p>"
      ],
      "text/plain": [
       "Output | Total Fixed Cost | Total Variable Cost | Total Cost | Average Fixed Cost\n",
       "0      | 50               | 0                   | 50         | 0\n",
       "1      | 50               | 50                  | 100        | 50\n",
       "2      | 50               | 78                  | 128        | 25\n",
       "3      | 50               | 98                  | 148        | 16.6667\n",
       "4      | 50               | 112                 | 162        | 12.5\n",
       "5      | 50               | 130                 | 180        | 10\n",
       "6      | 50               | 150                 | 200        | 8.33333\n",
       "7      | 50               | 175                 | 225        | 7.14286\n",
       "8      | 50               | 204                 | 254        | 6.25\n",
       "9      | 50               | 242                 | 292        | 5.55556\n",
       "... (2 rows omitted)"
      ]
     },
     "execution_count": 37,
     "metadata": {},
     "output_type": "execute_result"
    }
   ],
   "source": [
    "individual_firm_costs = individual_firm_costs.with_column(\"Average Fixed Cost\", average_fixed_cost)\n",
    "individual_firm_costs"
   ]
  },
  {
   "cell_type": "markdown",
   "metadata": {},
   "source": [
    "Similarly, AVC can be calculated as the TVC divided by the output."
   ]
  },
  {
   "cell_type": "code",
   "execution_count": 38,
   "metadata": {},
   "outputs": [
    {
     "data": {
      "text/plain": [
       "array([ 0.        , 50.        , 39.        , 32.66666667, 28.        ,\n",
       "       26.        , 25.        , 25.        , 25.5       , 26.88888889,\n",
       "       30.        , 35.        ])"
      ]
     },
     "execution_count": 38,
     "metadata": {},
     "output_type": "execute_result"
    }
   ],
   "source": [
    "average_variable_cost = individual_firm_costs_no_first.column(\"Total Variable Cost\")/individual_firm_costs_no_first.column(\"Output\")\n",
    "average_variable_cost = np.append(make_array(0), average_variable_cost)\n",
    "average_variable_cost"
   ]
  },
  {
   "cell_type": "code",
   "execution_count": 39,
   "metadata": {},
   "outputs": [
    {
     "data": {
      "text/html": [
       "<table border=\"1\" class=\"dataframe\">\n",
       "    <thead>\n",
       "        <tr>\n",
       "            <th>Output</th> <th>Total Fixed Cost</th> <th>Total Variable Cost</th> <th>Total Cost</th> <th>Average Fixed Cost</th> <th>Average Variable Cost</th>\n",
       "        </tr>\n",
       "    </thead>\n",
       "    <tbody>\n",
       "        <tr>\n",
       "            <td>0     </td> <td>50              </td> <td>0                  </td> <td>50        </td> <td>0                 </td> <td>0                    </td>\n",
       "        </tr>\n",
       "        <tr>\n",
       "            <td>1     </td> <td>50              </td> <td>50                 </td> <td>100       </td> <td>50                </td> <td>50                   </td>\n",
       "        </tr>\n",
       "        <tr>\n",
       "            <td>2     </td> <td>50              </td> <td>78                 </td> <td>128       </td> <td>25                </td> <td>39                   </td>\n",
       "        </tr>\n",
       "        <tr>\n",
       "            <td>3     </td> <td>50              </td> <td>98                 </td> <td>148       </td> <td>16.6667           </td> <td>32.6667              </td>\n",
       "        </tr>\n",
       "        <tr>\n",
       "            <td>4     </td> <td>50              </td> <td>112                </td> <td>162       </td> <td>12.5              </td> <td>28                   </td>\n",
       "        </tr>\n",
       "        <tr>\n",
       "            <td>5     </td> <td>50              </td> <td>130                </td> <td>180       </td> <td>10                </td> <td>26                   </td>\n",
       "        </tr>\n",
       "        <tr>\n",
       "            <td>6     </td> <td>50              </td> <td>150                </td> <td>200       </td> <td>8.33333           </td> <td>25                   </td>\n",
       "        </tr>\n",
       "        <tr>\n",
       "            <td>7     </td> <td>50              </td> <td>175                </td> <td>225       </td> <td>7.14286           </td> <td>25                   </td>\n",
       "        </tr>\n",
       "        <tr>\n",
       "            <td>8     </td> <td>50              </td> <td>204                </td> <td>254       </td> <td>6.25              </td> <td>25.5                 </td>\n",
       "        </tr>\n",
       "        <tr>\n",
       "            <td>9     </td> <td>50              </td> <td>242                </td> <td>292       </td> <td>5.55556           </td> <td>26.8889              </td>\n",
       "        </tr>\n",
       "    </tbody>\n",
       "</table>\n",
       "<p>... (2 rows omitted)</p>"
      ],
      "text/plain": [
       "Output | Total Fixed Cost | Total Variable Cost | Total Cost | Average Fixed Cost | Average Variable Cost\n",
       "0      | 50               | 0                   | 50         | 0                  | 0\n",
       "1      | 50               | 50                  | 100        | 50                 | 50\n",
       "2      | 50               | 78                  | 128        | 25                 | 39\n",
       "3      | 50               | 98                  | 148        | 16.6667            | 32.6667\n",
       "4      | 50               | 112                 | 162        | 12.5               | 28\n",
       "5      | 50               | 130                 | 180        | 10                 | 26\n",
       "6      | 50               | 150                 | 200        | 8.33333            | 25\n",
       "7      | 50               | 175                 | 225        | 7.14286            | 25\n",
       "8      | 50               | 204                 | 254        | 6.25               | 25.5\n",
       "9      | 50               | 242                 | 292        | 5.55556            | 26.8889\n",
       "... (2 rows omitted)"
      ]
     },
     "execution_count": 39,
     "metadata": {},
     "output_type": "execute_result"
    }
   ],
   "source": [
    "individual_firm_costs = individual_firm_costs.with_column(\"Average Variable Cost\", average_variable_cost)\n",
    "individual_firm_costs"
   ]
  },
  {
   "cell_type": "markdown",
   "metadata": {},
   "source": [
    "Similarly, ATC can be calculated as the TC divided by the output."
   ]
  },
  {
   "cell_type": "code",
   "execution_count": 40,
   "metadata": {},
   "outputs": [
    {
     "data": {
      "text/plain": [
       "array([  0.        , 100.        ,  64.        ,  49.33333333,\n",
       "        40.5       ,  36.        ,  33.33333333,  32.14285714,\n",
       "        31.75      ,  32.44444444,  35.        ,  39.54545455])"
      ]
     },
     "execution_count": 40,
     "metadata": {},
     "output_type": "execute_result"
    }
   ],
   "source": [
    "average_total_cost = individual_firm_costs_no_first.column(\"Total Cost\")/individual_firm_costs_no_first.column(\"Output\")\n",
    "average_total_cost = np.append(make_array(0), average_total_cost)\n",
    "average_total_cost"
   ]
  },
  {
   "cell_type": "code",
   "execution_count": 41,
   "metadata": {},
   "outputs": [
    {
     "data": {
      "text/html": [
       "<table border=\"1\" class=\"dataframe\">\n",
       "    <thead>\n",
       "        <tr>\n",
       "            <th>Output</th> <th>Total Fixed Cost</th> <th>Total Variable Cost</th> <th>Total Cost</th> <th>Average Fixed Cost</th> <th>Average Variable Cost</th> <th>Average Total Cost</th>\n",
       "        </tr>\n",
       "    </thead>\n",
       "    <tbody>\n",
       "        <tr>\n",
       "            <td>0     </td> <td>50              </td> <td>0                  </td> <td>50        </td> <td>0                 </td> <td>0                    </td> <td>0                 </td>\n",
       "        </tr>\n",
       "        <tr>\n",
       "            <td>1     </td> <td>50              </td> <td>50                 </td> <td>100       </td> <td>50                </td> <td>50                   </td> <td>100               </td>\n",
       "        </tr>\n",
       "        <tr>\n",
       "            <td>2     </td> <td>50              </td> <td>78                 </td> <td>128       </td> <td>25                </td> <td>39                   </td> <td>64                </td>\n",
       "        </tr>\n",
       "        <tr>\n",
       "            <td>3     </td> <td>50              </td> <td>98                 </td> <td>148       </td> <td>16.6667           </td> <td>32.6667              </td> <td>49.3333           </td>\n",
       "        </tr>\n",
       "        <tr>\n",
       "            <td>4     </td> <td>50              </td> <td>112                </td> <td>162       </td> <td>12.5              </td> <td>28                   </td> <td>40.5              </td>\n",
       "        </tr>\n",
       "        <tr>\n",
       "            <td>5     </td> <td>50              </td> <td>130                </td> <td>180       </td> <td>10                </td> <td>26                   </td> <td>36                </td>\n",
       "        </tr>\n",
       "        <tr>\n",
       "            <td>6     </td> <td>50              </td> <td>150                </td> <td>200       </td> <td>8.33333           </td> <td>25                   </td> <td>33.3333           </td>\n",
       "        </tr>\n",
       "        <tr>\n",
       "            <td>7     </td> <td>50              </td> <td>175                </td> <td>225       </td> <td>7.14286           </td> <td>25                   </td> <td>32.1429           </td>\n",
       "        </tr>\n",
       "        <tr>\n",
       "            <td>8     </td> <td>50              </td> <td>204                </td> <td>254       </td> <td>6.25              </td> <td>25.5                 </td> <td>31.75             </td>\n",
       "        </tr>\n",
       "        <tr>\n",
       "            <td>9     </td> <td>50              </td> <td>242                </td> <td>292       </td> <td>5.55556           </td> <td>26.8889              </td> <td>32.4444           </td>\n",
       "        </tr>\n",
       "    </tbody>\n",
       "</table>\n",
       "<p>... (2 rows omitted)</p>"
      ],
      "text/plain": [
       "Output | Total Fixed Cost | Total Variable Cost | Total Cost | Average Fixed Cost | Average Variable Cost | Average Total Cost\n",
       "0      | 50               | 0                   | 50         | 0                  | 0                     | 0\n",
       "1      | 50               | 50                  | 100        | 50                 | 50                    | 100\n",
       "2      | 50               | 78                  | 128        | 25                 | 39                    | 64\n",
       "3      | 50               | 98                  | 148        | 16.6667            | 32.6667               | 49.3333\n",
       "4      | 50               | 112                 | 162        | 12.5               | 28                    | 40.5\n",
       "5      | 50               | 130                 | 180        | 10                 | 26                    | 36\n",
       "6      | 50               | 150                 | 200        | 8.33333            | 25                    | 33.3333\n",
       "7      | 50               | 175                 | 225        | 7.14286            | 25                    | 32.1429\n",
       "8      | 50               | 204                 | 254        | 6.25               | 25.5                  | 31.75\n",
       "9      | 50               | 242                 | 292        | 5.55556            | 26.8889               | 32.4444\n",
       "... (2 rows omitted)"
      ]
     },
     "execution_count": 41,
     "metadata": {},
     "output_type": "execute_result"
    }
   ],
   "source": [
    "individual_firm_costs = individual_firm_costs.with_column(\"Average Total Cost\", average_total_cost)\n",
    "individual_firm_costs"
   ]
  },
  {
   "cell_type": "markdown",
   "metadata": {},
   "source": [
    "MC can be calculated as the difference between TC at current output level and TC at previous output level (or TVC, as TFC is fixed). For this we are going to use the function `np.diff`. You can read about it in the [Python reference](http://d8a-88.github.io/econ-fa19/python-reference.html)."
   ]
  },
  {
   "cell_type": "code",
   "execution_count": 42,
   "metadata": {},
   "outputs": [
    {
     "data": {
      "text/plain": [
       "array([ 0, 50, 28, 20, 14, 18, 20, 25, 29, 38, 58, 85])"
      ]
     },
     "execution_count": 42,
     "metadata": {},
     "output_type": "execute_result"
    }
   ],
   "source": [
    "marginal_cost = np.diff(total_cost)\n",
    "marginal_cost = np.append(make_array(0), marginal_cost)\n",
    "marginal_cost"
   ]
  },
  {
   "cell_type": "code",
   "execution_count": 43,
   "metadata": {},
   "outputs": [
    {
     "data": {
      "text/html": [
       "<table border=\"1\" class=\"dataframe\">\n",
       "    <thead>\n",
       "        <tr>\n",
       "            <th>Output</th> <th>Total Fixed Cost</th> <th>Total Variable Cost</th> <th>Total Cost</th> <th>Average Fixed Cost</th> <th>Average Variable Cost</th> <th>Average Total Cost</th> <th>Marginal Cost</th>\n",
       "        </tr>\n",
       "    </thead>\n",
       "    <tbody>\n",
       "        <tr>\n",
       "            <td>0     </td> <td>50              </td> <td>0                  </td> <td>50        </td> <td>0                 </td> <td>0                    </td> <td>0                 </td> <td>0            </td>\n",
       "        </tr>\n",
       "        <tr>\n",
       "            <td>1     </td> <td>50              </td> <td>50                 </td> <td>100       </td> <td>50                </td> <td>50                   </td> <td>100               </td> <td>50           </td>\n",
       "        </tr>\n",
       "        <tr>\n",
       "            <td>2     </td> <td>50              </td> <td>78                 </td> <td>128       </td> <td>25                </td> <td>39                   </td> <td>64                </td> <td>28           </td>\n",
       "        </tr>\n",
       "        <tr>\n",
       "            <td>3     </td> <td>50              </td> <td>98                 </td> <td>148       </td> <td>16.6667           </td> <td>32.6667              </td> <td>49.3333           </td> <td>20           </td>\n",
       "        </tr>\n",
       "        <tr>\n",
       "            <td>4     </td> <td>50              </td> <td>112                </td> <td>162       </td> <td>12.5              </td> <td>28                   </td> <td>40.5              </td> <td>14           </td>\n",
       "        </tr>\n",
       "        <tr>\n",
       "            <td>5     </td> <td>50              </td> <td>130                </td> <td>180       </td> <td>10                </td> <td>26                   </td> <td>36                </td> <td>18           </td>\n",
       "        </tr>\n",
       "        <tr>\n",
       "            <td>6     </td> <td>50              </td> <td>150                </td> <td>200       </td> <td>8.33333           </td> <td>25                   </td> <td>33.3333           </td> <td>20           </td>\n",
       "        </tr>\n",
       "        <tr>\n",
       "            <td>7     </td> <td>50              </td> <td>175                </td> <td>225       </td> <td>7.14286           </td> <td>25                   </td> <td>32.1429           </td> <td>25           </td>\n",
       "        </tr>\n",
       "        <tr>\n",
       "            <td>8     </td> <td>50              </td> <td>204                </td> <td>254       </td> <td>6.25              </td> <td>25.5                 </td> <td>31.75             </td> <td>29           </td>\n",
       "        </tr>\n",
       "        <tr>\n",
       "            <td>9     </td> <td>50              </td> <td>242                </td> <td>292       </td> <td>5.55556           </td> <td>26.8889              </td> <td>32.4444           </td> <td>38           </td>\n",
       "        </tr>\n",
       "    </tbody>\n",
       "</table>\n",
       "<p>... (2 rows omitted)</p>"
      ],
      "text/plain": [
       "Output | Total Fixed Cost | Total Variable Cost | Total Cost | Average Fixed Cost | Average Variable Cost | Average Total Cost | Marginal Cost\n",
       "0      | 50               | 0                   | 50         | 0                  | 0                     | 0                  | 0\n",
       "1      | 50               | 50                  | 100        | 50                 | 50                    | 100                | 50\n",
       "2      | 50               | 78                  | 128        | 25                 | 39                    | 64                 | 28\n",
       "3      | 50               | 98                  | 148        | 16.6667            | 32.6667               | 49.3333            | 20\n",
       "4      | 50               | 112                 | 162        | 12.5               | 28                    | 40.5               | 14\n",
       "5      | 50               | 130                 | 180        | 10                 | 26                    | 36                 | 18\n",
       "6      | 50               | 150                 | 200        | 8.33333            | 25                    | 33.3333            | 20\n",
       "7      | 50               | 175                 | 225        | 7.14286            | 25                    | 32.1429            | 25\n",
       "8      | 50               | 204                 | 254        | 6.25               | 25.5                  | 31.75              | 29\n",
       "9      | 50               | 242                 | 292        | 5.55556            | 26.8889               | 32.4444            | 38\n",
       "... (2 rows omitted)"
      ]
     },
     "execution_count": 43,
     "metadata": {},
     "output_type": "execute_result"
    }
   ],
   "source": [
    "individual_firm_costs = individual_firm_costs.with_column(\"Marginal Cost\", marginal_cost)\n",
    "individual_firm_costs"
   ]
  },
  {
   "cell_type": "markdown",
   "metadata": {},
   "source": [
    "Let's look at some plots! First, we'll plot the total fixed cost, total variable cost, and total cost:"
   ]
  },
  {
   "cell_type": "code",
   "execution_count": 44,
   "metadata": {
    "tags": [
     "hide_input"
    ]
   },
   "outputs": [
    {
     "data": {
      "image/png": "[encoded data removed]",
      "text/plain": [
       "<Figure size 432x288 with 1 Axes>"
      ]
     },
     "metadata": {},
     "output_type": "display_data"
    }
   ],
   "source": [
    "# NO CODE\n",
    "plt.plot(individual_firm_costs.column(\"Output\"), individual_firm_costs.column(\"Total Fixed Cost\"), marker='o')\n",
    "plt.plot(individual_firm_costs.column(\"Output\"), individual_firm_costs.column(\"Total Variable Cost\"), marker='o')\n",
    "plt.plot(individual_firm_costs.column(\"Output\"), individual_firm_costs.column(\"Total Cost\"), marker='o')\n",
    "plt.xlabel('Quantity')\n",
    "plt.ylabel('Cost')\n",
    "plt.title('TFC, TVC and TC')\n",
    "plt.legend(make_array(\"Total Fixed Cost\",\"Total Variable Cost\",\"Total Cost\"))\n",
    "\n",
    "plt.show()"
   ]
  },
  {
   "cell_type": "markdown",
   "metadata": {},
   "source": [
    "Now let's look at the AFC, AVC, and ATC:"
   ]
  },
  {
   "cell_type": "code",
   "execution_count": 45,
   "metadata": {
    "tags": [
     "hide_input"
    ]
   },
   "outputs": [
    {
     "data": {
      "image/png": "[encoded data removed]",
      "text/plain": [
       "<Figure size 432x288 with 1 Axes>"
      ]
     },
     "metadata": {},
     "output_type": "display_data"
    }
   ],
   "source": [
    "# NO CODE\n",
    "plt.plot(individual_firm_costs.column(\"Output\")[1:], individual_firm_costs.column(\"Average Fixed Cost\")[1:], marker='o')\n",
    "plt.plot(individual_firm_costs.column(\"Output\")[1:], individual_firm_costs.column(\"Average Variable Cost\")[1:], marker='o')\n",
    "plt.plot(individual_firm_costs.column(\"Output\")[1:], individual_firm_costs.column(\"Average Total Cost\")[1:], marker='o')\n",
    "plt.xlabel('Quantity')\n",
    "plt.ylabel('Cost')\n",
    "plt.title('AFC, AVC and ATC')\n",
    "plt.legend(make_array(\"Average Fixed Cost\",\"Average Variable Cost\",\"Average Total Cost\"))\n",
    "\n",
    "plt.show()"
   ]
  },
  {
   "cell_type": "markdown",
   "metadata": {},
   "source": [
    "Notice that as we increase the quantity, the AFC goes down and the AVC converges to the ATC. Will the AVC ever cross the ATC?\n",
    "\n",
    "The answer is no because regardless of how many units we're producing, the AFC is _always_ greater than 0, so the ATC has to be greater than the AVC."
   ]
  },
  {
   "cell_type": "markdown",
   "metadata": {},
   "source": [
    "Now let's look at a more interesting plot: the marginal cost, AVC, and ATC."
   ]
  },
  {
   "cell_type": "code",
   "execution_count": 46,
   "metadata": {
    "tags": [
     "hide_input"
    ]
   },
   "outputs": [
    {
     "data": {
      "image/png": "[encoded data removed]",
      "text/plain": [
       "<Figure size 432x288 with 1 Axes>"
      ]
     },
     "metadata": {},
     "output_type": "display_data"
    }
   ],
   "source": [
    "# NO CODE\n",
    "plt.plot(individual_firm_costs.column(\"Output\")[1:], individual_firm_costs.column(\"Marginal Cost\")[1:], marker='o')\n",
    "plt.plot(individual_firm_costs.column(\"Output\")[1:], individual_firm_costs.column(\"Average Variable Cost\")[1:], marker='o')\n",
    "plt.plot(individual_firm_costs.column(\"Output\")[1:], individual_firm_costs.column(\"Average Total Cost\")[1:], marker='o')\n",
    "plt.xlabel('Quantity')\n",
    "plt.ylabel('Cost')\n",
    "plt.title('Mc, AVC and ATC')\n",
    "plt.legend(make_array(\"Marginal Cost\",\"Average Variable Cost\",\"Average Total Cost\"))\n",
    "\n",
    "plt.show()"
   ]
  },
  {
   "cell_type": "markdown",
   "metadata": {},
   "source": [
    "What do you notice about the way that the MC curve intersects with the AVC and ATC curves? It always intersects their their minima! This is because once the additional cost per good (MC) becomes greater than the average cost, the average begins going up.\n",
    "\n",
    "To illustrate this point, the plot below shows the tangent line at each intersection point. Notice that the slope of the tangent is 0, meaning that we're at the exact minimum of the function."
   ]
  },
  {
   "cell_type": "code",
   "execution_count": 47,
   "metadata": {
    "tags": [
     "hide_input"
    ]
   },
   "outputs": [
    {
     "data": {
      "image/png": "[encoded data removed]",
      "text/plain": [
       "<Figure size 432x288 with 1 Axes>"
      ]
     },
     "metadata": {},
     "output_type": "display_data"
    }
   ],
   "source": [
    "# NO CODE\n",
    "output = individual_firm_costs.column(\"Output\")[1:]\n",
    "mc = individual_firm_costs.column(\"Marginal Cost\")[1:]\n",
    "avc = individual_firm_costs.column(\"Average Variable Cost\")[1:]\n",
    "atc = individual_firm_costs.column(\"Average Total Cost\")[1:]\n",
    "\n",
    "sp_mc = csaps.UnivariateCubicSmoothingSpline(output, mc, smooth=0.85)\n",
    "sp_avc = csaps.UnivariateCubicSmoothingSpline(output, avc, smooth=0.85)\n",
    "sp_atc = csaps.UnivariateCubicSmoothingSpline(output, atc, smooth=0.85)\n",
    "\n",
    "output_s = np.linspace(output.min(), output.max(), 150)\n",
    "mc_s = sp_mc(output_s)\n",
    "avc_s = sp_avc(output_s)\n",
    "atc_s = sp_atc(output_s)\n",
    "\n",
    "plt.plot(output, mc, marker = 'o', color = 'tab:blue')\n",
    "plt.plot(output_s, mc_s, alpha=0.7, lw = 2, label='_nolegend_', color = 'tab:blue')\n",
    "plt.plot(output, avc, marker = 'o', color = 'tab:green')\n",
    "plt.plot(output_s, avc_s, alpha=0.7, lw = 2, label='_nolegend_', color = 'tab:green')\n",
    "plt.plot(output, atc, marker = 'o', color = 'tab:orange')\n",
    "plt.plot(output_s, atc_s, alpha=0.7, lw = 2, label='_nolegend_', color = 'tab:orange')\n",
    "plt.hlines(y=min(avc), xmin = 6, xmax = 8, lw=3, color='r', zorder = 10)\n",
    "plt.hlines(y=min(atc), xmin = 7.5, xmax = 9.5, lw=3, color='r', zorder = 10)\n",
    "plt.xlabel('Quantity')\n",
    "plt.ylabel('Cost')\n",
    "plt.title('MC, AVC and ATC')\n",
    "plt.legend(make_array(\"Marginal Cost\",\"Average Variable Cost\",\"Average Total Cost\"))\n",
    "\n",
    "plt.show()"
   ]
  },
  {
   "cell_type": "markdown",
   "metadata": {},
   "source": [
    "What do you notice? **A company decides to produce if it the price is greater than or equal to its Average Variable Cost.**"
   ]
  },
  {
   "cell_type": "markdown",
   "metadata": {},
   "source": [
    "There are 3 different scenarios: they do not produce at all, they produce at a loss (minimising quantity), and they produce at a profit. Play around with the slider to see them."
   ]
  },
  {
   "cell_type": "code",
   "execution_count": 48,
   "metadata": {
    "tags": [
     "interactive"
    ]
   },
   "outputs": [
    {
     "data": {
      "application/vnd.jupyter.widget-view+json": {
       "model_id": "b8a31b2642264476887c86ffd486a382",
       "version_major": 2,
       "version_minor": 0
      },
      "text/plain": [
       "interactive(children=(IntSlider(value=25, description='price', max=60, min=20), Output()), _dom_classes=('widg…"
      ]
     },
     "metadata": {},
     "output_type": "display_data"
    }
   ],
   "source": [
    "interact(lambda price: firm_behaviour(price, individual_firm_costs), price=widgets.IntSlider(min=20,max=60,step=1,value=25));"
   ]
  },
  {
   "cell_type": "markdown",
   "metadata": {},
   "source": [
    "In the above example, if the price is 24, for any amount of production, the firm will lose money. In this case, they shut down and the loss is limited to its fixed costs.\n",
    "\n",
    "If the price is above the minimum of AVC (25 in the example), for some amount of production, the firm will maximise its profits (or minimise its losses). Profits are Total Revenue minus Total Costs, where Total Revenue is Price times Quantity."
   ]
  },
  {
   "cell_type": "markdown",
   "metadata": {},
   "source": [
    "Therefore, based on the price, each firm looks at its costs and makes a decision to produce. At low prices, only the firms with the lowest production costs produce. As the price increases, firms with higher production costs find it feasible to produce and begin to supply. Thus, the market supply rises with higher prices. Firms with lower costs make extra profits. "
   ]
  },
  {
   "cell_type": "markdown",
   "metadata": {},
   "source": [
    "## An Example from EEP 147"
   ]
  },
  {
   "cell_type": "markdown",
   "metadata": {},
   "source": [
    "Let's look at a real life example! This comes from **EEP 147 Regulation of Energy and the Environment**. The table below, stored as `ESG_table`, holds data on power plants grouped by means of production and contains data on their capacities (in MW) and their AVCs."
   ]
  },
  {
   "cell_type": "code",
   "execution_count": 49,
   "metadata": {
    "tags": [
     "hide_input"
    ]
   },
   "outputs": [
    {
     "data": {
      "text/html": [
       "<table border=\"1\" class=\"dataframe\">\n",
       "    <thead>\n",
       "        <tr>\n",
       "            <th>Group</th> <th>Group_num</th> <th>UNIT NAME</th> <th>Capacity_MW</th> <th>Average Variable Cost</th>\n",
       "        </tr>\n",
       "    </thead>\n",
       "    <tbody>\n",
       "        <tr>\n",
       "            <td>Old Timers  </td> <td>7        </td> <td>BIG CREEK      </td> <td>1000       </td> <td>0                    </td>\n",
       "        </tr>\n",
       "        <tr>\n",
       "            <td>Fossil Light</td> <td>8        </td> <td>HELMS          </td> <td>800        </td> <td>0.5                  </td>\n",
       "        </tr>\n",
       "        <tr>\n",
       "            <td>Fossil Light</td> <td>8        </td> <td>DIABLO CANYON 1</td> <td>1000       </td> <td>11.5                 </td>\n",
       "        </tr>\n",
       "        <tr>\n",
       "            <td>Bay Views   </td> <td>4        </td> <td>MOSS LANDING 6 </td> <td>750        </td> <td>32.56                </td>\n",
       "        </tr>\n",
       "        <tr>\n",
       "            <td>Bay Views   </td> <td>4        </td> <td>MOSS LANDING 7 </td> <td>750        </td> <td>32.56                </td>\n",
       "        </tr>\n",
       "        <tr>\n",
       "            <td>Old Timers  </td> <td>7        </td> <td>MOHAVE 1       </td> <td>750        </td> <td>34.5                 </td>\n",
       "        </tr>\n",
       "        <tr>\n",
       "            <td>Old Timers  </td> <td>7        </td> <td>MOHAVE 2       </td> <td>750        </td> <td>34.5                 </td>\n",
       "        </tr>\n",
       "        <tr>\n",
       "            <td>Big Coal    </td> <td>1        </td> <td>FOUR CORNERS   </td> <td>1900       </td> <td>36.5                 </td>\n",
       "        </tr>\n",
       "        <tr>\n",
       "            <td>Bay Views   </td> <td>4        </td> <td>MORRO BAY 3&4  </td> <td>665        </td> <td>36.61                </td>\n",
       "        </tr>\n",
       "        <tr>\n",
       "            <td>East Bay    </td> <td>6        </td> <td>PITTSBURGH 5&6 </td> <td>650        </td> <td>36.61                </td>\n",
       "        </tr>\n",
       "    </tbody>\n",
       "</table>\n",
       "<p>... (32 rows omitted)</p>"
      ],
      "text/plain": [
       "Group        | Group_num | UNIT NAME       | Capacity_MW | Average Variable Cost\n",
       "Old Timers   | 7         | BIG CREEK       | 1000        | 0\n",
       "Fossil Light | 8         | HELMS           | 800         | 0.5\n",
       "Fossil Light | 8         | DIABLO CANYON 1 | 1000        | 11.5\n",
       "Bay Views    | 4         | MOSS LANDING 6  | 750         | 32.56\n",
       "Bay Views    | 4         | MOSS LANDING 7  | 750         | 32.56\n",
       "Old Timers   | 7         | MOHAVE 1        | 750         | 34.5\n",
       "Old Timers   | 7         | MOHAVE 2        | 750         | 34.5\n",
       "Big Coal     | 1         | FOUR CORNERS    | 1900        | 36.5\n",
       "Bay Views    | 4         | MORRO BAY 3&4   | 665         | 36.61\n",
       "East Bay     | 6         | PITTSBURGH 5&6  | 650         | 36.61\n",
       "... (32 rows omitted)"
      ]
     },
     "execution_count": 49,
     "metadata": {},
     "output_type": "execute_result"
    }
   ],
   "source": [
    "# NO CODE\n",
    "ESG_table = Table.read_table('ESGPorfolios_forcsv.csv').select(\n",
    "    \"Group\", \"Group_num\", \"UNIT NAME\", \"Capacity_MW\", \"Total_Var_Cost_USDperMWH\").sort(\n",
    "    \"Total_Var_Cost_USDperMWH\", descending = False).relabel(4, \"Average Variable Cost\")\n",
    "ESG_table"
   ]
  },
  {
   "cell_type": "markdown",
   "metadata": {},
   "source": [
    "This table shows some electricity producers and their costs. You can think about the Capacity as the output the firm is capable of producing. The Average Variable Cost shows the minimum variable cost per MW produced. At a price below AVC, the firm supplies nothing. At a price above the AVC, the firm can supply upto its capacity. Being a profit maximising firm, it will try to supply its full capacity."
   ]
  },
  {
   "cell_type": "markdown",
   "metadata": {},
   "source": [
    "First, lets look at just the Big Coal producers and understand the data."
   ]
  },
  {
   "cell_type": "code",
   "execution_count": 50,
   "metadata": {},
   "outputs": [
    {
     "data": {
      "text/html": [
       "<table border=\"1\" class=\"dataframe\">\n",
       "    <thead>\n",
       "        <tr>\n",
       "            <th>Group</th> <th>Group_num</th> <th>UNIT NAME</th> <th>Capacity_MW</th> <th>Average Variable Cost</th>\n",
       "        </tr>\n",
       "    </thead>\n",
       "    <tbody>\n",
       "        <tr>\n",
       "            <td>Big Coal</td> <td>1        </td> <td>FOUR CORNERS        </td> <td>1900       </td> <td>36.5                 </td>\n",
       "        </tr>\n",
       "        <tr>\n",
       "            <td>Big Coal</td> <td>1        </td> <td>HUNTINGTON BEACH 1&2</td> <td>300        </td> <td>40.5                 </td>\n",
       "        </tr>\n",
       "        <tr>\n",
       "            <td>Big Coal</td> <td>1        </td> <td>REDONDO 5&6         </td> <td>350        </td> <td>41.94                </td>\n",
       "        </tr>\n",
       "        <tr>\n",
       "            <td>Big Coal</td> <td>1        </td> <td>REDONDO 7&8         </td> <td>950        </td> <td>41.94                </td>\n",
       "        </tr>\n",
       "        <tr>\n",
       "            <td>Big Coal</td> <td>1        </td> <td>HUNTINGTON BEACH 5  </td> <td>150        </td> <td>66.5                 </td>\n",
       "        </tr>\n",
       "        <tr>\n",
       "            <td>Big Coal</td> <td>1        </td> <td>ALAMITOS 7          </td> <td>250        </td> <td>73.72                </td>\n",
       "        </tr>\n",
       "    </tbody>\n",
       "</table>"
      ],
      "text/plain": [
       "Group    | Group_num | UNIT NAME            | Capacity_MW | Average Variable Cost\n",
       "Big Coal | 1         | FOUR CORNERS         | 1900        | 36.5\n",
       "Big Coal | 1         | HUNTINGTON BEACH 1&2 | 300         | 40.5\n",
       "Big Coal | 1         | REDONDO 5&6          | 350         | 41.94\n",
       "Big Coal | 1         | REDONDO 7&8          | 950         | 41.94\n",
       "Big Coal | 1         | HUNTINGTON BEACH 5   | 150         | 66.5\n",
       "Big Coal | 1         | ALAMITOS 7           | 250         | 73.72"
      ]
     },
     "execution_count": 50,
     "metadata": {},
     "output_type": "execute_result"
    }
   ],
   "source": [
    "selection = 'Big Coal'\n",
    "Group = ESG_table.where(\"Group\", selection)\n",
    "Group"
   ]
  },
  {
   "cell_type": "code",
   "execution_count": 51,
   "metadata": {
    "tags": [
     "hide_input"
    ]
   },
   "outputs": [
    {
     "data": {
      "image/png": "[encoded data removed]",
      "text/plain": [
       "<Figure size 648x432 with 1 Axes>"
      ]
     },
     "metadata": {},
     "output_type": "display_data"
    }
   ],
   "source": [
    "# NO CODE\n",
    "# Make the plot\n",
    "plt.figure(figsize=(9,6))\n",
    "plt.bar(new_x_group, height_group, width=width_group, edgecolor = \"black\")\n",
    "# Add title and axis names\n",
    "plt.title(selection)\n",
    "plt.xlabel('Capacity_MW')\n",
    "plt.ylabel('Variable Cost/Price')\n",
    "\n",
    "plt.show()"
   ]
  },
  {
   "cell_type": "markdown",
   "metadata": {},
   "source": [
    "This figure is the Big Coal Supply curve. It shows the price of electricity, and the quantity supplied at those prices (which depends on Variable Cost). For example, at any Variable Cost at or above 36.5, the producer FOUR CORNERS\t(the one with the lowest production costs) will supply, and so on.\n",
    "\n",
    "Lets interact with it."
   ]
  },
  {
   "cell_type": "code",
   "execution_count": 52,
   "metadata": {
    "tags": [
     "interactive"
    ]
   },
   "outputs": [
    {
     "data": {
      "application/vnd.jupyter.widget-view+json": {
       "model_id": "890c87af25d74f98b034ded86911307d",
       "version_major": 2,
       "version_minor": 0
      },
      "text/plain": [
       "interactive(children=(IntSlider(value=37, description='price', max=80, min=20), Output()), _dom_classes=('widg…"
      ]
     },
     "metadata": {},
     "output_type": "display_data"
    }
   ],
   "source": [
    "interact(group_plot, price=widgets.IntSlider(min=20,max=80,step=1,value=37));"
   ]
  },
  {
   "cell_type": "markdown",
   "metadata": {},
   "source": [
    "We are going to repeat the same process, this time for all the energy sources. They have been colored according to source for reference."
   ]
  },
  {
   "cell_type": "code",
   "execution_count": 53,
   "metadata": {
    "tags": [
     "interactive"
    ]
   },
   "outputs": [
    {
     "data": {
      "application/vnd.jupyter.widget-view+json": {
       "model_id": "dc5cf83f76b1432aa923e7fce58e28d6",
       "version_major": 2,
       "version_minor": 0
      },
      "text/plain": [
       "interactive(children=(IntSlider(value=37, description='price', max=90), Output()), _dom_classes=('widget-inter…"
      ]
     },
     "metadata": {},
     "output_type": "display_data"
    }
   ],
   "source": [
    "interact(ESG_plot, price=widgets.IntSlider(min=0,max=90,step=1,value=37));"
   ]
  },
  {
   "cell_type": "markdown",
   "metadata": {},
   "source": [
    " "
   ]
  }
 ],
 "metadata": {
  "kernelspec": {
   "display_name": "Python 3",
   "language": "python",
   "name": "python3"
  },
  "language_info": {
   "codemirror_mode": {
    "name": "ipython",
    "version": 3
   },
   "file_extension": ".py",
   "mimetype": "text/x-python",
   "name": "python",
   "nbconvert_exporter": "python",
   "pygments_lexer": "ipython3",
   "version": "3.6.5"
  },
  "varInspector": {
   "cols": {
    "lenName": 16,
    "lenType": 16,
    "lenVar": 40
   },
   "kernels_config": {
    "python": {
     "delete_cmd_postfix": "",
     "delete_cmd_prefix": "del ",
     "library": "var_list.py",
     "varRefreshCmd": "print(var_dic_list())"
    },
    "r": {
     "delete_cmd_postfix": ") ",
     "delete_cmd_prefix": "rm(",
     "library": "var_list.r",
     "varRefreshCmd": "cat(var_dic_list()) "
    }
   },
   "types_to_exclude": [
    "module",
    "function",
    "builtin_function_or_method",
    "instance",
    "_Feature"
   ],
   "window_display": false
  }
 },
 "nbformat": 4,
 "nbformat_minor": 2
}
