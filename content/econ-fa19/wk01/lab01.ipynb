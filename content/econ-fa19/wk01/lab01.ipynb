{
 "cells": [
  {
   "cell_type": "markdown",
   "metadata": {},
   "source": [
    "# Lab 1: SymPy and LaTeX"
   ]
  },
  {
   "cell_type": "markdown",
   "metadata": {},
   "source": [
    "Economics is in the world around us, and so is Data Science! It's in our every day lives. As we connect Data Science with Economics, we will be exploring real life datasets to illustrate how Economics concepts are shaped and how decisions lead to real-life impacts."
   ]
  },
  {
   "cell_type": "markdown",
   "metadata": {},
   "source": [
    "## Today's Lab"
   ]
  },
  {
   "cell_type": "markdown",
   "metadata": {},
   "source": [
    "Some learning outcomes:\n",
    "1. Navigate and use tools, such as Jupyter notebooks\n",
    "2. Write and evaluate basic expressions in Python\n",
    "3. Represent formulas and expressions in LaTeX\n",
    "4. Write and evaluate functions, such as Supply and Demand, in SymPy\n",
    "5. Calculus review \n",
    "\n"
   ]
  },
  {
   "cell_type": "markdown",
   "metadata": {},
   "source": [
    "Acknowledgement: prob140.org, opentextbc.ca"
   ]
  },
  {
   "cell_type": "markdown",
   "metadata": {},
   "source": [
    "## Intro to Jupyter Notebooks"
   ]
  },
  {
   "cell_type": "markdown",
   "metadata": {},
   "source": [
    "Welcome to Jupyter notebooks, a place used to write programs, write texts, and view the results."
   ]
  },
  {
   "cell_type": "markdown",
   "metadata": {},
   "source": [
    "Each rectangle is called a *cell*. There are two types of cells: text or code. Text cells, like this one, can be edited by double-clicking on them. \n",
    "\n",
    "To run a cell, click the \"<i class=\"fa-step-forward fa\"></i> Run\" button on the top menu bar or hold `shift` + `return` (or `shift` + `enter`). "
   ]
  },
  {
   "cell_type": "markdown",
   "metadata": {},
   "source": [
    "<div class=\"alert alert-info\">\n",
    "\n",
    "<strong>Question 1.1:</strong> Try editing this paragraph so it only says \"Economics is fun.\" Then click the Run or hold down <code>shift</code> + <code>return</code>. This sentence, for example, should be deleted. Edit by double-clicking this cell.\n",
    "\n",
    "</div>"
   ]
  },
  {
   "cell_type": "markdown",
   "metadata": {},
   "source": [
    "<div class=\"alert alert-success\">\n",
    "    \n",
    "<strong>Answer:</strong> Economics is fun.\n",
    "\n",
    "</div>"
   ]
  },
  {
   "cell_type": "markdown",
   "metadata": {},
   "source": [
    "<div class=\"alert alert-info\">\n",
    "\n",
    "<strong>Question 1.2:</strong> Other cells contain code in Python 3 language. Running a cell with code will execute all the code it contains. To run the code in a code cell, first click on that cell to activate it. It'll be highlighted with a little green or blue rectangle. Run the following cells.\n",
    "\n",
    "</div>"
   ]
  },
  {
   "cell_type": "code",
   "execution_count": 18,
   "metadata": {},
   "outputs": [
    {
     "name": "stdout",
     "output_type": "stream",
     "text": [
      "Hello, World!\n"
     ]
    }
   ],
   "source": [
    "#Run this cell\n",
    "print(\"Hello, World!\")"
   ]
  },
  {
   "cell_type": "code",
   "execution_count": 19,
   "metadata": {
    "scrolled": true
   },
   "outputs": [
    {
     "name": "stdout",
     "output_type": "stream",
     "text": [
      "Economics is fun!\n",
      "I love data science!\n"
     ]
    }
   ],
   "source": [
    "print(\"Economics is fun!\")\n",
    "print(\"I love data science!\")"
   ]
  },
  {
   "cell_type": "code",
   "execution_count": 21,
   "metadata": {},
   "outputs": [],
   "source": [
    "# HIDDEN\n",
    "from datascience import *\n",
    "import numpy as np\n",
    "from sympy import *\n",
    "init_printing()\n",
    "import matplotlib.pyplot as plt\n",
    "%matplotlib inline"
   ]
  },
  {
   "cell_type": "markdown",
   "metadata": {},
   "source": [
    "## LaTeX"
   ]
  },
  {
   "cell_type": "markdown",
   "metadata": {},
   "source": [
    "A tool for presenting and formatting numeric formulas, functions, and symbols is LaTeX. To format with LaTex, place your equations and math in between dollar signs, $. \n",
    "\n",
    "For example, `$f(x) = 8x$`  gets formatted as  $f(x) = 8x$"
   ]
  },
  {
   "cell_type": "markdown",
   "metadata": {},
   "source": [
    "Some other common operations:\n",
    "\n",
    "Exponentials: `$x^{2}$` gets formatted as $x^{2}$\n",
    "\n",
    "Fractions: `$\\frac{x}{y}$` yields $\\frac{x}{y}$"
   ]
  },
  {
   "cell_type": "markdown",
   "metadata": {},
   "source": [
    "We can use LaTeX for formatting Supply and Demand curves and functions in Economics, such as $ P = 2Q + 4 $"
   ]
  },
  {
   "cell_type": "markdown",
   "metadata": {},
   "source": [
    "Practice typing a few different expressions using LaTeX. "
   ]
  },
  {
   "cell_type": "markdown",
   "metadata": {},
   "source": [
    "<div class=\"alert alert-info\">\n",
    "\n",
    "<strong>Question 2.1:</strong> Type the Pythagorean theorem.\n",
    "\n",
    "</div>"
   ]
  },
  {
   "cell_type": "markdown",
   "metadata": {},
   "source": [
    "<div class=\"alert alert-success\">\n",
    "    \n",
    "<strong>Answer:</strong> $a^2 + b^2 = c^2$  \n",
    "\n",
    "LaTeX: <code>$a^2 + b^2 = c^2$</code>\n",
    "\n",
    "</div>"
   ]
  },
  {
   "cell_type": "markdown",
   "metadata": {},
   "source": [
    "<div class=\"alert alert-info\">\n",
    "    \n",
    "<strong>Question 2.2:</strong> Type the Euclidian distance theorem.\n",
    "\n",
    "</div>\n"
   ]
  },
  {
   "cell_type": "markdown",
   "metadata": {},
   "source": [
    "<div class=\"alert alert-success\">\n",
    "    \n",
    "<strong>Answer:</strong> $d = \\sqrt{(x_2-x_1)^2 + (y_2-y_1)^2}$ \n",
    "\n",
    "LaTeX: `$d = \\sqrt{(x_2-x_1)^2 + (y_2-y_1)^2}$`\n",
    "\n",
    "</div>"
   ]
  },
  {
   "cell_type": "markdown",
   "metadata": {},
   "source": [
    "## Supply and Demand"
   ]
  },
  {
   "cell_type": "markdown",
   "metadata": {},
   "source": [
    "In economics and the world around us, supply and demand make up the fundamentals. \n",
    "\n",
    "One assumption we make for the law of supply and law of demand is *ceteris paribus.* When we change one factor, all other variables are held constant. \n",
    "\n",
    "For the supply and demand curves, we plot price P goes on the vertical Y-axis and quantity Q on the horizontal X-axis. \n",
    "\n",
    "Note:  It is different than how conventional math classes show the 'independent variable' price P on the Y-axis.\n",
    "\n",
    "Let's look at a real-world example of a dataset for gasoline. "
   ]
  },
  {
   "cell_type": "code",
   "execution_count": 5,
   "metadata": {
    "scrolled": true
   },
   "outputs": [
    {
     "data": {
      "text/html": [
       "<table border=\"1\" class=\"dataframe\">\n",
       "    <thead>\n",
       "        <tr>\n",
       "            <th>Price (per gallon)</th> <th>Quantity Supplied (millions of gallons)</th> <th>Quantity Demanded (millions of gallons)</th>\n",
       "        </tr>\n",
       "    </thead>\n",
       "    <tbody>\n",
       "        <tr>\n",
       "            <td>1                 </td> <td>500                                    </td> <td>800                                    </td>\n",
       "        </tr>\n",
       "        <tr>\n",
       "            <td>1.2               </td> <td>550                                    </td> <td>700                                    </td>\n",
       "        </tr>\n",
       "        <tr>\n",
       "            <td>1.4               </td> <td>600                                    </td> <td>600                                    </td>\n",
       "        </tr>\n",
       "        <tr>\n",
       "            <td>1.6               </td> <td>640                                    </td> <td>550                                    </td>\n",
       "        </tr>\n",
       "        <tr>\n",
       "            <td>1.8               </td> <td>680                                    </td> <td>500                                    </td>\n",
       "        </tr>\n",
       "        <tr>\n",
       "            <td>2                 </td> <td>700                                    </td> <td>460                                    </td>\n",
       "        </tr>\n",
       "        <tr>\n",
       "            <td>2.2               </td> <td>720                                    </td> <td>420                                    </td>\n",
       "        </tr>\n",
       "    </tbody>\n",
       "</table>"
      ],
      "text/plain": [
       "Price (per gallon) | Quantity Supplied (millions of gallons) | Quantity Demanded (millions of gallons)\n",
       "1                  | 500                                     | 800\n",
       "1.2                | 550                                     | 700\n",
       "1.4                | 600                                     | 600\n",
       "1.6                | 640                                     | 550\n",
       "1.8                | 680                                     | 500\n",
       "2                  | 700                                     | 460\n",
       "2.2                | 720                                     | 420"
      ]
     },
     "execution_count": 5,
     "metadata": {},
     "output_type": "execute_result"
    }
   ],
   "source": [
    "#Run this cell to load the table\n",
    "Table().with_columns(\n",
    "    'Price (per gallon)', np.arange(1.00, 2.40, 0.2), \n",
    "    'Quantity Supplied (millions of gallons)', [500, 550, 600, 640, 680, 700, 720], \n",
    "    'Quantity Demanded (millions of gallons)', [800, 700, 600, 550, 500, 460, 420])"
   ]
  },
  {
   "cell_type": "markdown",
   "metadata": {},
   "source": [
    "Supply refers to the amount of a good or service a producer is willing to supply for each given price. "
   ]
  },
  {
   "cell_type": "markdown",
   "metadata": {},
   "source": [
    "![supply](image1.png)"
   ]
  },
  {
   "cell_type": "markdown",
   "metadata": {},
   "source": [
    "Demand is the amount of a good or service consumers are willing and able to purchase for each given price. "
   ]
  },
  {
   "cell_type": "markdown",
   "metadata": {},
   "source": [
    "![demand](image2.png)"
   ]
  },
  {
   "cell_type": "markdown",
   "metadata": {},
   "source": [
    "In the next section, we will be exploring SymPy to find the intersection of the supply and demand curves, which marks the equilibrium point where both the price and quantity consumers are willing and able to buy at is equal to the price and quantity producers are willing to sell at."
   ]
  },
  {
   "cell_type": "markdown",
   "metadata": {},
   "source": [
    "![supply and demand](image3.png)"
   ]
  },
  {
   "cell_type": "markdown",
   "metadata": {},
   "source": [
    "## SymPy"
   ]
  },
  {
   "cell_type": "markdown",
   "metadata": {},
   "source": [
    "Python has many tools, such as the [SymPy library](https://docs.sympy.org/latest/tutorial/index.html) that we can use for expressing and evaluating formulas and functions in economics. \n",
    "\n",
    "Since SymPy helps with symbolic math, we start out by create a symbol using `Symbol`, which we assign to a variable name. Then, we can use the symbols for constructing symbolic expressions.\n",
    "\n",
    "### Example 1 ###"
   ]
  },
  {
   "cell_type": "code",
   "execution_count": 6,
   "metadata": {
    "scrolled": true
   },
   "outputs": [
    {
     "data": {
      "image/png": "[encoded data removed]",
      "text/latex": [
       "$$x$$"
      ],
      "text/plain": [
       "x"
      ]
     },
     "execution_count": 6,
     "metadata": {},
     "output_type": "execute_result"
    }
   ],
   "source": [
    "x = Symbol('x')\n",
    "x"
   ]
  },
  {
   "cell_type": "markdown",
   "metadata": {},
   "source": [
    "Now let's try using SymPy for creating a symbolic expression for supply and demand curves.\n",
    "\n",
    "Let's start out with an upward sloping Supply curve, where $P_S$ is price and $Q_S$ is quantity suppled. Create symbols for the variables $P_S$ and $Q$:"
   ]
  },
  {
   "cell_type": "code",
   "execution_count": 7,
   "metadata": {},
   "outputs": [
    {
     "data": {
      "image/png": "[encoded data removed]",
      "text/latex": [
       "$$P_{S}$$"
      ],
      "text/plain": [
       "P_S"
      ]
     },
     "execution_count": 7,
     "metadata": {},
     "output_type": "execute_result"
    }
   ],
   "source": [
    "P_S = Symbol('P_S')\n",
    "P_S"
   ]
  },
  {
   "cell_type": "code",
   "execution_count": 8,
   "metadata": {},
   "outputs": [
    {
     "data": {
      "image/png": "[encoded data removed]",
      "text/latex": [
       "$$Q_{S}$$"
      ],
      "text/plain": [
       "Q_S"
      ]
     },
     "execution_count": 8,
     "metadata": {},
     "output_type": "execute_result"
    }
   ],
   "source": [
    "Q_S = Symbol('Q_S')\n",
    "Q_S"
   ]
  },
  {
   "cell_type": "code",
   "execution_count": 9,
   "metadata": {},
   "outputs": [
    {
     "data": {
      "image/png": "[encoded data removed]",
      "text/latex": [
       "$$2 Q_{S} - 4$$"
      ],
      "text/plain": [
       "2⋅Q_S - 4"
      ]
     },
     "execution_count": 9,
     "metadata": {},
     "output_type": "execute_result"
    }
   ],
   "source": [
    "#Supply curve\n",
    "P_S = 2 * Q_S - 4\n",
    "P_S"
   ]
  },
  {
   "cell_type": "markdown",
   "metadata": {},
   "source": [
    "Now, use the same symbols $P_D$ and $Q_D$ to create an expression for a downward sloping Demand curve."
   ]
  },
  {
   "cell_type": "code",
   "execution_count": 10,
   "metadata": {},
   "outputs": [
    {
     "data": {
      "image/png": "[encoded data removed]",
      "text/latex": [
       "$$Q_{D}$$"
      ],
      "text/plain": [
       "Q_D"
      ]
     },
     "execution_count": 10,
     "metadata": {},
     "output_type": "execute_result"
    }
   ],
   "source": [
    "Q_D = Symbol('Q_D')\n",
    "Q_D"
   ]
  },
  {
   "cell_type": "code",
   "execution_count": 11,
   "metadata": {
    "scrolled": true
   },
   "outputs": [
    {
     "data": {
      "image/png": "[encoded data removed]",
      "text/latex": [
       "$$- Q_{D} + 2$$"
      ],
      "text/plain": [
       "-Q_D + 2"
      ]
     },
     "execution_count": 11,
     "metadata": {},
     "output_type": "execute_result"
    }
   ],
   "source": [
    "# Demand curve\n",
    "P_D = 2 - Q_D\n",
    "P_D"
   ]
  },
  {
   "cell_type": "markdown",
   "metadata": {},
   "source": [
    "Given the supply and demand curve, we set the two equations equal to each other and solve for the equilibrium price and equilibrium quantity. "
   ]
  },
  {
   "cell_type": "code",
   "execution_count": 12,
   "metadata": {},
   "outputs": [],
   "source": [
    "P_D = P_S"
   ]
  },
  {
   "cell_type": "markdown",
   "metadata": {},
   "source": [
    "Using SymPy, we call solve, which takes in the equation as the first argument followed by the variable we are solving for."
   ]
  },
  {
   "cell_type": "code",
   "execution_count": 13,
   "metadata": {},
   "outputs": [
    {
     "data": {
      "image/png": "[encoded data removed]",
      "text/latex": [
       "$$\\left [ 2\\right ]$$"
      ],
      "text/plain": [
       "[2]"
      ]
     },
     "execution_count": 13,
     "metadata": {},
     "output_type": "execute_result"
    }
   ],
   "source": [
    "solve(P_S, Q_S)"
   ]
  },
  {
   "cell_type": "code",
   "execution_count": 14,
   "metadata": {
    "scrolled": true
   },
   "outputs": [
    {
     "data": {
      "image/png": "[encoded data removed]",
      "text/latex": [
       "$$\\left [ 0\\right ]$$"
      ],
      "text/plain": [
       "[0]"
      ]
     },
     "execution_count": 14,
     "metadata": {},
     "output_type": "execute_result"
    }
   ],
   "source": [
    "solve(P_S, P_D)"
   ]
  },
  {
   "cell_type": "markdown",
   "metadata": {},
   "source": [
    "The equilibrium price and quantity are 0 and 2, respectively. "
   ]
  },
  {
   "cell_type": "markdown",
   "metadata": {},
   "source": [
    "### Example 2###\n",
    "Let's suppose our demand function is $\\text{Quantity}_{D}=-2 \\cdot \\text{Price}_{D} + 10$. Using SymPy, this would be\n"
   ]
  },
  {
   "cell_type": "code",
   "execution_count": 15,
   "metadata": {},
   "outputs": [
    {
     "data": {
      "image/png": "[encoded data removed]",
      "text/latex": [
       "$$- 2 q + 10$$"
      ],
      "text/plain": [
       "-2⋅q + 10"
      ]
     },
     "execution_count": 15,
     "metadata": {},
     "output_type": "execute_result"
    }
   ],
   "source": [
    "q = Symbol(\"q\")\n",
    "demand = -2*q + 10\n",
    "demand"
   ]
  },
  {
   "cell_type": "markdown",
   "metadata": {},
   "source": [
    "Suppose we have a supply function $\\text{Price}_{S}=3 \\cdot \\text{Quantity}_{S} + 1$. Using SymPy, this would be\n"
   ]
  },
  {
   "cell_type": "code",
   "execution_count": 16,
   "metadata": {},
   "outputs": [
    {
     "data": {
      "image/png": "[encoded data removed]",
      "text/latex": [
       "$$3 q + 1$$"
      ],
      "text/plain": [
       "3⋅q + 1"
      ]
     },
     "execution_count": 16,
     "metadata": {},
     "output_type": "execute_result"
    }
   ],
   "source": [
    "supply = 3*q + 1\n",
    "supply"
   ]
  },
  {
   "cell_type": "markdown",
   "metadata": {},
   "source": [
    "We will now try to find the market equilibrium. The market equilibrium is the price at which the quantity supplied and quantity demanded of a good or service is equal to each other. Hence, it is the point at which the demand and supply curves intersect. In the beginning of the workbook, we defined a function called solve which finds the x-value of a demand and supply curve's intersection. This point will be referred to as the equilibrium quantity, also known as $Q^*$. \n"
   ]
  },
  {
   "cell_type": "code",
   "execution_count": 17,
   "metadata": {
    "scrolled": false
   },
   "outputs": [
    {
     "data": {
      "image/png": "[encoded data removed]",
      "text/latex": [
       "$$\\left ( \\frac{9}{5}, \\quad \\frac{32}{5}\\right )$$"
      ],
      "text/plain": [
       "(9/5, 32/5)"
      ]
     },
     "execution_count": 17,
     "metadata": {},
     "output_type": "execute_result"
    },
    {
     "data": {
      "image/png": "[encoded data removed]",
      "text/plain": [
       "<Figure size 432x288 with 1 Axes>"
      ]
     },
     "metadata": {},
     "output_type": "display_data"
    }
   ],
   "source": [
    "def plot_equation(equation, price_start, price_end, label=None):\n",
    "    plot_prices = [price_start, price_end]\n",
    "    plot_quantities = [equation.subs(list(equation.free_symbols)[0], c) for c in plot_prices]\n",
    "    plt.plot(plot_prices, plot_quantities, label=label)\n",
    "    \n",
    "def plot_intercept(eq1, eq2):\n",
    "    ex = solve(eq1-eq2)[0]\n",
    "    why = eq1.subs(list(eq1.free_symbols)[0], ex)\n",
    "    plt.scatter([ex], [why])\n",
    "    return (ex, why)\n",
    "    \n",
    "plot_equation(demand, 0, 5)\n",
    "plot_equation(supply, 0, 5)\n",
    "plt.ylim(0,20)\n",
    "plot_intercept(supply, demand)"
   ]
  },
  {
   "cell_type": "markdown",
   "metadata": {},
   "source": [
    "## Calculus Review"
   ]
  },
  {
   "cell_type": "markdown",
   "metadata": {},
   "source": [
    "Let's review partial derivatives, which is simplying taking derivatives with respect to the variable specified in the partial derivative. All other variables are treated as constants. \n",
    "\n",
    "For example, the partial derivative, with respect to $x$, of $2xy$ is $2y$.  Here, y is treated as a constant.\n",
    "\n",
    "### Example 1\n",
    "\n",
    "$\\displaystyle\\frac{\\partial}{\\partial y}(2xy) = 2x$\n",
    "\n",
    "### Example 2\n",
    "\n",
    "$\\displaystyle\\frac{\\partial}{\\partial x}(x^{4} + xy^{2} + x) = 4x^{3} + y^{2} + 1$\n",
    "\n",
    "<div class=\"alert alert-info\">\n",
    "\n",
    "<strong>Question 3:</strong> Use LaTeX to find and display the partial derivatives.\n",
    "\n",
    "</div>"
   ]
  },
  {
   "cell_type": "markdown",
   "metadata": {},
   "source": [
    "**Question 3.1:** $\\displaystyle\\frac{\\partial}{\\partial x} (x^{2} + 8x)$"
   ]
  },
  {
   "cell_type": "markdown",
   "metadata": {},
   "source": [
    "<div class=\"alert alert-success\">\n",
    "    \n",
    "<strong>Answer:</strong> $2x + 8$\n",
    "\n",
    "</div>"
   ]
  },
  {
   "cell_type": "markdown",
   "metadata": {},
   "source": [
    "**Question 3.2:** $\\displaystyle\\frac{\\partial}{\\partial z} (5z^{6} + 10x^{2}yz^{2} + xyz + \\ln(z))$"
   ]
  },
  {
   "cell_type": "markdown",
   "metadata": {},
   "source": [
    "<div class=\"alert alert-success\">\n",
    "    \n",
    "<strong>Answer:</strong> $30z^5 + 20 x^2yz + xy + \\frac{1}{z}$\n",
    "\n",
    "</div>"
   ]
  },
  {
   "cell_type": "markdown",
   "metadata": {},
   "source": [
    "Congrats! You finished Lab 1! "
   ]
  },
  {
   "cell_type": "markdown",
   "metadata": {},
   "source": [
    " "
   ]
  }
 ],
 "metadata": {
  "kernelspec": {
   "display_name": "Python 3",
   "language": "python",
   "name": "python3"
  },
  "language_info": {
   "codemirror_mode": {
    "name": "ipython",
    "version": 3
   },
   "file_extension": ".py",
   "mimetype": "text/x-python",
   "name": "python",
   "nbconvert_exporter": "python",
   "pygments_lexer": "ipython3",
   "version": "3.6.5"
  },
  "varInspector": {
   "cols": {
    "lenName": 16,
    "lenType": 16,
    "lenVar": 40
   },
   "kernels_config": {
    "python": {
     "delete_cmd_postfix": "",
     "delete_cmd_prefix": "del ",
     "library": "var_list.py",
     "varRefreshCmd": "print(var_dic_list())"
    },
    "r": {
     "delete_cmd_postfix": ") ",
     "delete_cmd_prefix": "rm(",
     "library": "var_list.r",
     "varRefreshCmd": "cat(var_dic_list()) "
    }
   },
   "types_to_exclude": [
    "module",
    "function",
    "builtin_function_or_method",
    "instance",
    "_Feature"
   ],
   "window_display": false
  }
 },
 "nbformat": 4,
 "nbformat_minor": 2
}
