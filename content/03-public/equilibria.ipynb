{
 "cells": [
  {
   "cell_type": "code",
   "execution_count": 1,
   "metadata": {
    "tags": [
     "remove_cell"
    ]
   },
   "outputs": [],
   "source": [
    "import matplotlib.pyplot as plt\n",
    "import matplotlib.patches as patches\n",
    "import sympy\n",
    "import numpy as np\n",
    "import warnings\n",
    "from datascience import *\n",
    "warnings.filterwarnings('ignore')\n",
    "plt.style.use(\"seaborn-muted\")\n",
    "solve = lambda x,y: sympy.solve(x-y)[0] if len(sympy.solve(x-y))==1 else \"Not Single Solution\""
   ]
  },
  {
   "cell_type": "markdown",
   "metadata": {},
   "source": [
    "# Market Equilibrium\n",
    "\n",
    "<!--\n",
    "### Textbook by: Andrei Caprau, Alan Liang and Umar Maniku\n",
    "### Illustrations by: Alan Liang\n",
    "-->"
   ]
  },
  {
   "cell_type": "markdown",
   "metadata": {},
   "source": [
    "Over the past two weeks, we have individually introduced supply and demand, represented as functions of quantity supplied or demanded, respectively. Now let's bring them together. The intersection of both curves is called market equilibrium: the condition when quantity supplied equals quantity demanded at a given price. This is the \"market-clearing\" condition: $Q_S = Q_D$.\n",
    "\n",
    "This means that for any given equation of supply and demand, we can find both the equilibrium quantity and price. As demand and supply functions solve for price, $P_D = f(Q)$ and $P_S = f(Q)$, we simply equate the two functions together. To demonstrate this, we will use SymPy on the following demand and supply equations:\n",
    "\n",
    "$$\n",
    "P_D = -0.04Q_D + 20 \\\\\n",
    "P_S = 0.02Q_S + 14\n",
    "$$\n",
    "\n",
    "For simplicity's sake, we have defined `solve(x, y)` that returns the value of the input variable that results in equivalent values for the equations `x` and `y` that were passed in. Additionally, we use $Q$ when defining the equations as, at equilibrium, $Q_S = Q_D$."
   ]
  },
  {
   "cell_type": "code",
   "execution_count": 2,
   "metadata": {},
   "outputs": [
    {
     "data": {
      "text/plain": [
       "100.000000000000"
      ]
     },
     "execution_count": 2,
     "metadata": {},
     "output_type": "execute_result"
    }
   ],
   "source": [
    "Q = sympy.Symbol('Q')\n",
    "P_demand = -0.04 * Q + 20\n",
    "P_supply = 0.02 * Q + 14\n",
    "\n",
    "Q_star = solve(P_demand, P_supply)\n",
    "Q_star"
   ]
  },
  {
   "cell_type": "markdown",
   "metadata": {},
   "source": [
    "`Q_star`, the quantity of goods produced and sold at equilibrium, is equal to 100. To get the equilibrium price, we can substitute `Q_star` into either `P_demand` or `P_supply`:"
   ]
  },
  {
   "cell_type": "code",
   "execution_count": 3,
   "metadata": {},
   "outputs": [
    {
     "data": {
      "text/plain": [
       "16.0000000000000"
      ]
     },
     "execution_count": 3,
     "metadata": {},
     "output_type": "execute_result"
    }
   ],
   "source": [
    "P_star = P_demand.subs(Q, Q_star)\n",
    "P_star"
   ]
  },
  {
   "cell_type": "markdown",
   "metadata": {},
   "source": [
    "This gives us that `P_star` is equal to 16."
   ]
  },
  {
   "cell_type": "markdown",
   "metadata": {},
   "source": [
    "Note that it is also possible to solve for equilibrium when demand and supply are provided as functions of price. In other words, equations for quantity demanded and supplied are available: $Q_D = f(P)$ and $Q_S = f(P)$. We can convert demand functions that solve for price into those that solve for quantity. Take the demand equation from the above example:\n",
    "\n",
    "$$\n",
    "P_D = -0.04Q + 20 \\\\\n",
    "P_D - 20 = -0.04Q \\\\\n",
    "\\dfrac{20 - P_D}{0.04} = Q_D \\\\\n",
    "\\Rightarrow Q_D = 500 - 25P_D\n",
    "$$\n",
    "\n",
    "Doing the same process for supply yields: $Q_S = \\dfrac{-14 + P_S}{0.02} = -700 + 50P_S$.\n",
    "\n",
    "Using the market-clearing condition $Q_S = Q_D$, we equate the two functions of price to get the equilibrium price $P^*$."
   ]
  },
  {
   "cell_type": "code",
   "execution_count": 4,
   "metadata": {},
   "outputs": [
    {
     "name": "stdout",
     "output_type": "stream",
     "text": [
      "Equilibrium price: 16\n",
      "Equilibrium quantity: 100\n"
     ]
    }
   ],
   "source": [
    "P = sympy.Symbol('P')\n",
    "Q_demand = 500 - 25 * P\n",
    "Q_supply = -700 + 50 * P\n",
    "P_star = solve(Q_demand, Q_supply)\n",
    "Q_star = Q_demand.subs(P, P_star)\n",
    "print(f\"Equilibrium price: {P_star}\")\n",
    "print(f\"Equilibrium quantity: {Q_star}\")"
   ]
  },
  {
   "cell_type": "markdown",
   "metadata": {},
   "source": [
    "As expected, this yields the same equilibrium price and quantity as when demand and supply are functions of price."
   ]
  },
  {
   "cell_type": "markdown",
   "metadata": {},
   "source": [
    "## Movements Away from Equilibrium\n",
    "\n",
    "What happens to market equilibrium when either supply or demand shifts due to an exogenous shock?\n",
    "\n",
    "Let's assume that consumers now prefer Green Tea as their hot beverage of choice moreso than before. We have an outward shift of the demand curve - quantity demanded is greater at every price. The market is no longer in equilibrium."
   ]
  },
  {
   "cell_type": "markdown",
   "metadata": {},
   "source": [
    "```{figure} fig1-demand.png\n",
    "---\n",
    "width: 500px\n",
    "name: demand-shift\n",
    "---\n",
    "A shift in the demand curve\n",
    "```"
   ]
  },
  {
   "cell_type": "markdown",
   "metadata": {
    "tags": [
     "remove_cell"
    ]
   },
   "source": [
    "![title](fig1-demand.png)"
   ]
  },
  {
   "cell_type": "markdown",
   "metadata": {},
   "source": [
    "At the same price level (the former equilibrium price), there is a shortage of Green Tea. The amount demanded by consumers exceeds that supplied by producers: $Q_D > Q_S$. This is a seller's market, as the excess quantity demanded gives producers leverage (or market power) over consumers. They are able to increase the price of Green Tea to clear the shortage. As prices increase, consumers who were willing and able to purchase tea at the previous equilibrium price would leave the market, reducing quantity demanded. $Q_S$ and $Q_D$ move up along their respective curves until the new equilibrium is achieved where $Q_S = Q_D$. \n",
    "\n",
    "This dual effect of increasing $Q_S$ and $Q_D$ is sometimes referred to as the \"invisible hand\". Sans government intervention, it clears out the shortage or surplus in the market, resulting in the eventual convergence to a new equilibrium level of quantity $Q^*$ and price $P^*$."
   ]
  },
  {
   "cell_type": "markdown",
   "metadata": {},
   "source": [
    " "
   ]
  }
 ],
 "metadata": {
  "kernelspec": {
   "display_name": "Python 3",
   "language": "python",
   "name": "python3"
  },
  "language_info": {
   "codemirror_mode": {
    "name": "ipython",
    "version": 3
   },
   "file_extension": ".py",
   "mimetype": "text/x-python",
   "name": "python",
   "nbconvert_exporter": "python",
   "pygments_lexer": "ipython3",
   "version": "3.6.5"
  }
 },
 "nbformat": 4,
 "nbformat_minor": 4
}
